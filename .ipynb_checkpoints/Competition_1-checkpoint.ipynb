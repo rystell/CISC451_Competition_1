{
 "cells": [
  {
   "cell_type": "code",
   "execution_count": null,
   "id": "adaptive-affiliate",
   "metadata": {
    "cell_id": "fd150704-2a67-4e50-b3af-67799d933249",
    "deepnote_cell_type": "code",
    "deepnote_to_be_reexecuted": false,
    "execution_millis": 5059,
    "execution_start": 1643915260939,
    "source_hash": "4aae26d6"
   },
   "outputs": [],
   "source": [
    "import requests\n",
    "import pandas as pd\n",
    "import numpy as np\n",
    "import json\n",
    "stop_api_url = \"https://opendatakingston.cityofkingston.ca/api/records/1.0/search/?dataset=transit-gtfs-stops&q=&rows=799\"\n",
    "driveway_api_url = \"https://opendatakingston.cityofkingston.ca/api/records/1.0/search/?dataset=driveways&q=&rows=-1&facet=material\"\n",
    "busroute_api_url = 'https://opendatakingston.cityofkingston.ca/api/records/1.0/search/?dataset=transit-gtfs-routes&q=&rows=-1&facet=route_short_name&exclude.route_long_name=999+Maintenance+-+Out+of+Service'\n",
    "stop_response = requests.get(stop_api_url)\n",
    "driveway_response = requests.get(driveway_api_url)\n",
    "busroute_response = requests.get(busroute_api_url)"
   ]
  },
  {
   "cell_type": "code",
   "execution_count": null,
   "id": "received-royalty",
   "metadata": {
    "cell_id": "00001-d1784141-deb5-416f-aa72-c6377827981e",
    "deepnote_cell_type": "code",
    "deepnote_output_heights": [
     21
    ],
    "deepnote_to_be_reexecuted": false,
    "execution_millis": 17,
    "execution_start": 1643915270080,
    "source_hash": "9930cb24"
   },
   "outputs": [
    {
     "data": {
      "text/plain": [
       "200"
      ]
     },
     "execution_count": 2,
     "metadata": {},
     "output_type": "execute_result"
    }
   ],
   "source": [
    "driveway_response.status_code"
   ]
  },
  {
   "cell_type": "code",
   "execution_count": null,
   "id": "pharmaceutical-porcelain",
   "metadata": {
    "cell_id": "00002-ff3146c5-35d2-41cf-8aba-a8210f25c34f",
    "deepnote_cell_type": "code",
    "deepnote_to_be_reexecuted": false,
    "execution_millis": 760,
    "execution_start": 1643915272296,
    "source_hash": "4d492f7f"
   },
   "outputs": [],
   "source": [
    "x = stop_response.json()\n",
    "x_driveway = driveway_response.json()\n",
    "x_busroute = busroute_response.json()"
   ]
  },
  {
   "cell_type": "code",
   "execution_count": null,
   "id": "handled-shipping",
   "metadata": {
    "cell_id": "00003-93c373e0-b079-47fc-986e-79dfd69ece7e",
    "deepnote_cell_type": "code",
    "deepnote_to_be_reexecuted": false,
    "execution_millis": 6890,
    "execution_start": 1643915276747,
    "source_hash": "31f81632"
   },
   "outputs": [],
   "source": [
    "transit_stops = pd.json_normalize(x,'records')\n",
    "driveways = pd.json_normalize(x_driveway,'records')\n",
    "busroute = pd.json_normalize(x_busroute,'records')"
   ]
  },
  {
   "cell_type": "code",
   "execution_count": null,
   "id": "indie-proceeding",
   "metadata": {
    "cell_id": "00004-250aeb05-67c2-4f75-b5d1-82e933a1d14c",
    "deepnote_cell_type": "code",
    "deepnote_output_heights": [
     232
    ],
    "deepnote_to_be_reexecuted": false,
    "execution_millis": 18,
    "execution_start": 1643915287849,
    "source_hash": "d700c978"
   },
   "outputs": [
    {
     "data": {
      "text/plain": [
       "0                      [44.25722, -76.57395]\n",
       "1                      [44.26926, -76.55933]\n",
       "2                      [44.26475, -76.54892]\n",
       "3                      [44.26208, -76.54846]\n",
       "4                      [44.25257, -76.54781]\n",
       "                       ...                  \n",
       "794                    [44.22496, -76.66337]\n",
       "795                    [44.25365, -76.56864]\n",
       "796    [44.2641910258681, -76.4985940698535]\n",
       "797    [44.2656871117652, -76.5021851286293]\n",
       "798     [44.259401941672, -76.5099725872279]\n",
       "Name: fields.stop_coordinates, Length: 799, dtype: object"
      ]
     },
     "execution_count": 5,
     "metadata": {},
     "output_type": "execute_result"
    }
   ],
   "source": [
    "driveways['fields.geo_point_2d']\n",
    "transit_stops['fields.stop_coordinates']"
   ]
  },
  {
   "cell_type": "code",
   "execution_count": null,
   "id": "bizarre-discipline",
   "metadata": {
    "cell_id": "00005-51fd6a9f-c244-427a-92f0-efd2b651c61f",
    "deepnote_cell_type": "code",
    "deepnote_to_be_reexecuted": false,
    "execution_millis": 14,
    "execution_start": 1643675459705,
    "source_hash": "8719fc02"
   },
   "outputs": [],
   "source": [
    "import math\n",
    "\n",
    "def haversine(coord1,coord2):\n",
    "    # returns shortest distance between two points in metres\n",
    "    \n",
    "    # Radius of the Earth at Kingston. Assuming mean elevation of 93m above\n",
    "    # sea level.\n",
    "    R = 6367869\n",
    "    lat1, lon1 = coord1\n",
    "    lat2, lon2 = coord2\n",
    "    \n",
    "    phi1, phi2 = math.radians(lat1), math.radians(lat2)\n",
    "    dphi       = math.radians(lat2 - lat1)\n",
    "    dlambda    = math.radians(lon2 - lon1)\n",
    "    \n",
    "    a = math.sin(dphi/2)**2 + \\\n",
    "        math.cos(phi1)*math.cos(phi2)*math.sin(dlambda/2)**2\n",
    "    \n",
    "    return 2*R*math.atan2(math.sqrt(a),math.sqrt(1-a))"
   ]
  },
  {
   "cell_type": "code",
   "execution_count": null,
   "id": "serious-bangkok",
   "metadata": {
    "cell_id": "00006-97430e2d-a742-4e35-81b2-fee965afeb62",
    "deepnote_cell_type": "code",
    "deepnote_output_heights": [
     21
    ],
    "deepnote_to_be_reexecuted": false,
    "execution_millis": 17,
    "execution_start": 1643675459727,
    "source_hash": "7942e3d7"
   },
   "outputs": [
    {
     "data": {
      "text/plain": [
       "14860.243499812255"
      ]
     },
     "execution_count": 7,
     "metadata": {},
     "output_type": "execute_result"
    }
   ],
   "source": [
    "haversine(np.array(driveways['fields.geo_point_2d'][0]),np.array(transit_stops['fields.stop_coordinates'][0]))"
   ]
  },
  {
   "cell_type": "markdown",
   "id": "prompt-credits",
   "metadata": {
    "cell_id": "a1da842b-04d7-4fe0-ad6b-8078185b3f25",
    "deepnote_cell_type": "markdown",
    "tags": []
   },
   "source": [
    "The next section of code is trying to determine which routes service which stops. It is using map shading GPS coords of the bus routes to measure the distance of the route to the stop. A stop is said to be part of a bus route if the haversine formula measures a distance of \\<100m of the shaded route to the stop."
   ]
  },
  {
   "cell_type": "code",
   "execution_count": null,
   "id": "turned-mapping",
   "metadata": {
    "cell_id": "77e04f57-67b1-48b8-bbd5-5399727ab11b",
    "deepnote_cell_type": "code",
    "tags": []
   },
   "outputs": [],
   "source": [
    "# The calculation needs to be complete for all bus stops. Stops need to be recorded in the dataframe. TBD.\n",
    "stop_test = np.array(transit_stops['fields.stop_coordinates'][0])\n",
    "\n",
    "for route, ind in enumerate(busroute['fields.shape.coordinates']):\n",
    "    p = 0\n",
    "    route_test = np.array(busroute['fields.shape.coordinates'][route][0])\n",
    "    for ind in route_test:\n",
    "        \n",
    "        test_param = haversine(np.flip(route_test[p]),stop_test)\n",
    "        if test_param<100:\n",
    "            print(test_param)\n",
    "            print(busroute['fields.route_short_name'][route])\n",
    "            # Loop breaks if stop identified as being within 100m of bus route.\n",
    "            break\n",
    "            \n",
    "        \n",
    "        p = p+1\n"
   ]
  },
  {
   "cell_type": "markdown",
   "id": "pleased-variety",
   "metadata": {
    "cell_id": "afa86597-5586-4e80-ac35-59725695f496",
    "deepnote_cell_type": "markdown",
    "tags": []
   },
   "source": [
    "From here we create a matrix to document the shortest path from each "
   ]
  },
  {
   "cell_type": "code",
   "execution_count": null,
   "id": "artistic-holocaust",
   "metadata": {
    "cell_id": "00008-31dfc002-61b0-4b0e-8ea8-a6c54bd8b106",
    "deepnote_cell_type": "code",
    "deepnote_to_be_reexecuted": false,
    "execution_millis": 75,
    "execution_start": 1643675459795,
    "source_hash": "570f8499"
   },
   "outputs": [],
   "source": [
    "transit_lat = transit_stops['fields.stop_coordinates'].explode().to_numpy()[::2]\n",
    "transit_long = transit_stops['fields.stop_coordinates'].explode().to_numpy()[1::2]\n",
    "transit_coords = np.column_stack((transit_lat,transit_long))\n",
    "\n",
    "driveway_lat = driveways['fields.geo_point_2d'].explode().to_numpy()[::2]\n",
    "driveway_long =  driveways['fields.geo_point_2d'].explode().to_numpy()[1::2]\n",
    "\n",
    "driveway_coords = np.column_stack((driveway_lat,driveway_long))"
   ]
  },
  {
   "cell_type": "code",
   "execution_count": null,
   "id": "significant-horror",
   "metadata": {
    "cell_id": "00009-0881c69c-32b8-4011-b77b-c77a1dc1f933",
    "deepnote_cell_type": "code",
    "deepnote_to_be_reexecuted": false,
    "execution_millis": 88008,
    "execution_start": 1643675459874,
    "source_hash": "ddadcf06"
   },
   "outputs": [],
   "source": [
    "stop_distance = np.ndarray(shape = [driveway_lat.size,transit_lat.size])\n",
    "k = 0\n",
    "l = 0\n",
    "\n",
    "for i in driveway_coords:\n",
    "    l = 0\n",
    "    for j in transit_coords:\n",
    "        stop_distance[k,l] = haversine(i,j)\n",
    "        l = l+1\n",
    "    k = k+1"
   ]
  },
  {
   "cell_type": "code",
   "execution_count": null,
   "id": "announced-restriction",
   "metadata": {
    "cell_id": "00010-becff03e-d551-46d5-8606-0b69dcf6f8c2",
    "deepnote_cell_type": "code",
    "deepnote_to_be_reexecuted": false,
    "execution_millis": 33,
    "execution_start": 1643675547919,
    "source_hash": "7d4fdd5b"
   },
   "outputs": [
    {
     "name": "stdout",
     "output_type": "stream",
     "text": [
      "median distance to stop:  183.1881739352463 m\n",
      "1211.0667639838714\n"
     ]
    }
   ],
   "source": [
    "closest_stop = stop_distance.min(axis = 1)\n",
    "print('median distance to stop: ',np.median(closest_stop),'m')\n",
    "print(closest_stop.mean())"
   ]
  },
  {
   "cell_type": "markdown",
   "id": "stylish-composition",
   "metadata": {
    "created_in_deepnote_cell": true,
    "deepnote_cell_type": "markdown",
    "tags": []
   },
   "source": [
    "<a style='text-decoration:none;line-height:16px;display:flex;color:#5B5B62;padding:10px;justify-content:end;' href='https://deepnote.com?utm_source=created-in-deepnote-cell&projectId=63c92067-2a93-4cc0-850b-51f44255f10b' target=\"_blank\">\n",
    "<img alt='Created in deepnote.com' style='display:inline;max-height:16px;margin:0px;margin-right:7.5px;' src='data:image/svg+xml;base64,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' > </img>\n",
    "Created in <span style='font-weight:600;margin-left:4px;'>Deepnote</span></a>"
   ]
  }
 ],
 "metadata": {
  "deepnote": {},
  "deepnote_execution_queue": [],
  "deepnote_notebook_id": "ad015c68-1e2c-4230-823c-e1fa7ac58977",
  "kernelspec": {
   "display_name": "Python 3",
   "language": "python",
   "name": "python3"
  },
  "language_info": {
   "codemirror_mode": {
    "name": "ipython",
    "version": 3
   },
   "file_extension": ".py",
   "mimetype": "text/x-python",
   "name": "python",
   "nbconvert_exporter": "python",
   "pygments_lexer": "ipython3",
   "version": "3.7.0"
  }
 },
 "nbformat": 4,
 "nbformat_minor": 5
}
