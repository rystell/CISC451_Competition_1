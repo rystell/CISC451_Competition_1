{
 "cells": [
  {
   "cell_type": "markdown",
   "id": "metallic-universal",
   "metadata": {},
   "source": [
    "# CISC451/893 Competition 1\n",
    "\n",
    "**TEAM:**<br>\n",
    "Ryan Elliott - 05999293<br>\n",
    "Sizhe Guan 20090459<br>\n",
    "Vishal Chotara 20307118\n",
    "## Question 1<br>\n",
    "### Accessibility of Kingston transit\n",
    "City of Kingston has an extensive transit network. The city maintains 23 routes helping connect the east and west urban areas of the city. The urban regions of the city are well serviced by the transit network. The data environment is prepared in this cell. City of Kingston data is fetched using the API. The data evaluated is all the table of all transit stops, table of all driveways (commericial and residential), and table of active busroutes in Kingston. The effectiveness of a transit network is highly correlated to the systems accessibility. Accessibility can mean different things depending on the study. This analysis will define accessbility to be a walking distance of 200m. We will assume that if a bus stop is within 200m of a driveway/address then the stop will be accessible."
   ]
  },
  {
   "cell_type": "code",
   "execution_count": 1,
   "id": "adaptive-affiliate",
   "metadata": {
    "cell_id": "fd150704-2a67-4e50-b3af-67799d933249",
    "deepnote_cell_type": "code",
    "deepnote_to_be_reexecuted": false,
    "execution_millis": 5059,
    "execution_start": 1643915260939,
    "source_hash": "4aae26d6"
   },
   "outputs": [],
   "source": [
    "# The data environment is prepared in this cell. City of Kingston data is fetched\n",
    "# using the API\n",
    "\n",
    "import requests\n",
    "import pandas as pd\n",
    "import numpy as np\n",
    "import json\n",
    "stop_api_url = \"https://opendatakingston.cityofkingston.ca/api/records/1.0/search/?dataset=transit-gtfs-stops&q=&rows=799\"\n",
    "driveway_api_url = \"https://opendatakingston.cityofkingston.ca/api/records/1.0/search/?dataset=driveways&q=&rows=-1&facet=material\"\n",
    "busroute_api_url = 'https://opendatakingston.cityofkingston.ca/api/records/1.0/search/?dataset=transit-gtfs-routes&q=&rows=-1&facet=route_short_name&exclude.route_long_name=999+Maintenance+-+Out+of+Service'\n",
    "stop_response = requests.get(stop_api_url)\n",
    "driveway_response = requests.get(driveway_api_url)\n",
    "busroute_response = requests.get(busroute_api_url)"
   ]
  },
  {
   "cell_type": "code",
   "execution_count": 3,
   "id": "pharmaceutical-porcelain",
   "metadata": {
    "cell_id": "00002-ff3146c5-35d2-41cf-8aba-a8210f25c34f",
    "deepnote_cell_type": "code",
    "deepnote_to_be_reexecuted": false,
    "execution_millis": 760,
    "execution_start": 1643915272296,
    "source_hash": "4d492f7f"
   },
   "outputs": [],
   "source": [
    "# Data must be unpacked using json() method.\n",
    "x = stop_response.json()\n",
    "x_driveway = driveway_response.json()\n",
    "x_busroute = busroute_response.json()\n",
    "\n",
    "# The json() frames are then turned into Pandas dataframes.\n",
    "transit_stops = pd.json_normalize(x,'records')\n",
    "driveways = pd.json_normalize(x_driveway,'records')\n",
    "busroute = pd.json_normalize(x_busroute,'records')"
   ]
  },
  {
   "cell_type": "markdown",
   "id": "surgical-portuguese",
   "metadata": {},
   "source": [
    "The city actively maintains and updates the opendata the databases. Sometimes the new records do not have GPS coordinates. The records without GPS coordinates are removed from analysis."
   ]
  },
  {
   "cell_type": "code",
   "execution_count": 5,
   "id": "indie-proceeding",
   "metadata": {
    "cell_id": "00004-250aeb05-67c2-4f75-b5d1-82e933a1d14c",
    "deepnote_cell_type": "code",
    "deepnote_output_heights": [
     232
    ],
    "deepnote_to_be_reexecuted": false,
    "execution_millis": 18,
    "execution_start": 1643915287849,
    "source_hash": "d700c978"
   },
   "outputs": [],
   "source": [
    "# drops data if there is no GPS coordinates.\n",
    "driveways = driveways.dropna(subset = ['fields.geo_point_2d'],how = 'all')"
   ]
  },
  {
   "cell_type": "markdown",
   "id": "surgical-demand",
   "metadata": {},
   "source": [
    "GPS coordinates are points on a sphere. Measuring the distance between poinst cannot be completed in cartesian space. The points must be projected onto a sphere to measure the arc length between the points. The haversin function is a common approximation used to measure the poits between two GPS coordinates."
   ]
  },
  {
   "cell_type": "code",
   "execution_count": 6,
   "id": "bizarre-discipline",
   "metadata": {
    "cell_id": "00005-51fd6a9f-c244-427a-92f0-efd2b651c61f",
    "deepnote_cell_type": "code",
    "deepnote_to_be_reexecuted": false,
    "execution_millis": 14,
    "execution_start": 1643675459705,
    "source_hash": "8719fc02"
   },
   "outputs": [],
   "source": [
    "import math\n",
    "\n",
    "def haversine(coord1,coord2):\n",
    "    # Takes two coordinate vectors coord1 and coord2 and \n",
    "    # returns the distance between two points in metres\n",
    "    \n",
    "    # Radius of the Earth at Kingston. \n",
    "    # Assuming mean elevation of 93m above sea level.\n",
    "    R = 6367869\n",
    "    lat1, lon1 = coord1\n",
    "    lat2, lon2 = coord2\n",
    "    \n",
    "    phi1, phi2 = math.radians(lat1), math.radians(lat2)\n",
    "    dphi       = math.radians(lat2 - lat1)\n",
    "    dlambda    = math.radians(lon2 - lon1)\n",
    "    \n",
    "    a = math.sin(dphi/2)**2 + \\\n",
    "        math.cos(phi1)*math.cos(phi2)*math.sin(dlambda/2)**2\n",
    "    \n",
    "    return 2*R*math.atan2(math.sqrt(a),math.sqrt(1-a))"
   ]
  },
  {
   "cell_type": "code",
   "execution_count": 8,
   "id": "consistent-principle",
   "metadata": {},
   "outputs": [
    {
     "name": "stderr",
     "output_type": "stream",
     "text": [
      "c:\\users\\ryan\\appdata\\local\\programs\\python\\python37\\lib\\site-packages\\ipykernel_launcher.py:1: DeprecationWarning: The default dtype for empty Series will be 'object' instead of 'float64' in a future version. Specify a dtype explicitly to silence this warning.\n",
      "  \"\"\"Entry point for launching an IPython kernel.\n"
     ]
    }
   ],
   "source": [
    "transit_stops['bus_routes'] = pd.Series()"
   ]
  },
  {
   "cell_type": "markdown",
   "id": "moving-presence",
   "metadata": {},
   "source": [
    "Next we evaluate the distance of the driveways to all the bus stops. An array is created of the distance of each driveway to each bus stop."
   ]
  },
  {
   "cell_type": "code",
   "execution_count": 10,
   "id": "technological-sister",
   "metadata": {
    "cell_id": "00008-31dfc002-61b0-4b0e-8ea8-a6c54bd8b106",
    "deepnote_cell_type": "code",
    "deepnote_to_be_reexecuted": false,
    "execution_millis": 75,
    "execution_start": 1643675459795,
    "source_hash": "570f8499"
   },
   "outputs": [],
   "source": [
    "transit_lat = transit_stops['fields.stop_coordinates'].explode().to_numpy()[::2]\n",
    "transit_long = transit_stops['fields.stop_coordinates'].explode().to_numpy()[1::2]\n",
    "transit_coords = np.column_stack((transit_lat,transit_long))\n",
    "\n",
    "driveway_lat = driveways['fields.geo_point_2d'].explode().to_numpy()[::2]\n",
    "driveway_long =  driveways['fields.geo_point_2d'].explode().to_numpy()[1::2]\n",
    "\n",
    "driveway_coords = np.column_stack((driveway_lat,driveway_long))"
   ]
  },
  {
   "cell_type": "code",
   "execution_count": 11,
   "id": "sunrise-narrow",
   "metadata": {
    "cell_id": "00009-0881c69c-32b8-4011-b77b-c77a1dc1f933",
    "deepnote_cell_type": "code",
    "deepnote_to_be_reexecuted": false,
    "execution_millis": 88008,
    "execution_start": 1643675459874,
    "source_hash": "ddadcf06"
   },
   "outputs": [],
   "source": [
    "stop_distance = np.ndarray(shape = [driveway_lat.size,transit_lat.size])\n",
    "k = 0\n",
    "l = 0\n",
    "\n",
    "for i in driveway_coords:\n",
    "    l = 0\n",
    "    for j in transit_coords:\n",
    "        stop_distance[k,l] = haversine(i,j)\n",
    "        l = l+1\n",
    "    k = k+1"
   ]
  },
  {
   "cell_type": "code",
   "execution_count": 54,
   "id": "reasonable-president",
   "metadata": {
    "cell_id": "00010-becff03e-d551-46d5-8606-0b69dcf6f8c2",
    "deepnote_cell_type": "code",
    "deepnote_to_be_reexecuted": false,
    "execution_millis": 33,
    "execution_start": 1643675547919,
    "source_hash": "7d4fdd5b"
   },
   "outputs": [
    {
     "name": "stdout",
     "output_type": "stream",
     "text": [
      "median distance to a stop:  199 m\n",
      "average distance to a stop:  1287 m\n"
     ]
    }
   ],
   "source": [
    "closest_stop = stop_distance.min(axis = 1)\n",
    "print('median distance to a stop: ',round(np.median(closest_stop)),'m')\n",
    "print('average distance to a stop: ',round(closest_stop.mean()),'m')"
   ]
  },
  {
   "cell_type": "markdown",
   "id": "spectacular-convenience",
   "metadata": {},
   "source": [
    "Half of all the driveways in Kingston are within 200m of a bus stop. The average distance to a bus stop is heavily skewed by driveways that are not in the urban part of the city of Kingston.<br><br>\n",
    "We may also evaluate which stops in the network are walkable. We find that 706 of 799 stops are within 200m "
   ]
  },
  {
   "cell_type": "code",
   "execution_count": 55,
   "id": "digital-practice",
   "metadata": {},
   "outputs": [
    {
     "name": "stdout",
     "output_type": "stream",
     "text": [
      "706\n"
     ]
    }
   ],
   "source": [
    "stop_density = stop_distance < 200\n",
    "walkable_stop = stop_density.sum(axis=0)>0\n",
    "print(walkable_stop.sum())"
   ]
  },
  {
   "cell_type": "markdown",
   "id": "prompt-credits",
   "metadata": {
    "cell_id": "a1da842b-04d7-4fe0-ad6b-8078185b3f25",
    "deepnote_cell_type": "markdown",
    "tags": []
   },
   "source": [
    "The next section of code is trying to determine which routes service which stops and can be used to determine which stops serve as potential transfers between bus routes. A stop is said to be part of a bus route if the haversine formula measures a distance of \\<200m of the shaded route to the stop. The routes are stored in a list for that record in the data frame."
   ]
  },
  {
   "cell_type": "code",
   "execution_count": 35,
   "id": "turned-mapping",
   "metadata": {
    "cell_id": "77e04f57-67b1-48b8-bbd5-5399727ab11b",
    "deepnote_cell_type": "code",
    "scrolled": true,
    "tags": []
   },
   "outputs": [
    {
     "name": "stderr",
     "output_type": "stream",
     "text": [
      "c:\\users\\ryan\\appdata\\local\\programs\\python\\python37\\lib\\site-packages\\ipykernel_launcher.py:20: SettingWithCopyWarning: \n",
      "A value is trying to be set on a copy of a slice from a DataFrame\n",
      "\n",
      "See the caveats in the documentation: https://pandas.pydata.org/pandas-docs/stable/user_guide/indexing.html#returning-a-view-versus-a-copy\n",
      "c:\\users\\ryan\\appdata\\local\\programs\\python\\python37\\lib\\site-packages\\pandas\\core\\indexing.py:670: SettingWithCopyWarning: \n",
      "A value is trying to be set on a copy of a slice from a DataFrame\n",
      "\n",
      "See the caveats in the documentation: https://pandas.pydata.org/pandas-docs/stable/user_guide/indexing.html#returning-a-view-versus-a-copy\n",
      "  iloc._setitem_with_indexer(indexer, value)\n"
     ]
    }
   ],
   "source": [
    "# The calculation needs to be complete for all bus stops. Stops need to be recorded in the dataframe. TBD.\n",
    "k = 0\n",
    "for s in transit_stops['fields.stop_coordinates']:\n",
    "    stop_test = np.array(s)\n",
    "    route_list = list()\n",
    "    for route, ind in enumerate(busroute['fields.shape.coordinates']):\n",
    "        p = 0\n",
    "        route_test = np.array(busroute['fields.shape.coordinates'][route][0])\n",
    "        for ind in route_test:\n",
    "            test_param = haversine(np.flip(route_test[p]),stop_test)\n",
    "            if test_param<150:\n",
    "                # Append bus route to list.\n",
    "                route_list.append(busroute['fields.route_short_name'][route])\n",
    "                # Loop breaks if stop identified as being within 100m of bus route.\n",
    "                break\n",
    "\n",
    "\n",
    "            p = p+1\n",
    "\n",
    "    transit_stops['bus_routes'][k] = route_list\n",
    "    # print(transit_stops['fields.stop_name'][k],\" \",transit_stops['bus_routes'][k])\n",
    "    k = k+1\n",
    "\n"
   ]
  },
  {
   "cell_type": "markdown",
   "id": "controlling-saying",
   "metadata": {},
   "source": [
    "The number of routes each stop services can be seen accross the network using a histogram. There are 38 stops which were not assigned to a route. This is likely due to the distcrete spacing of the GPS shape coordinates in the bus route feature. These can be binned with the stops that service a single route. What is pretty interesting is that there are 19 bus stops that have 10 bus routes within 200m of the stop."
   ]
  },
  {
   "cell_type": "code",
   "execution_count": 44,
   "id": "bizarre-curtis",
   "metadata": {},
   "outputs": [
    {
     "name": "stdout",
     "output_type": "stream",
     "text": [
      "(array([ 38, 461, 113, 109,  22,  17,   7,   4,   9,  19], dtype=int64), array([ 0.,  1.,  2.,  3.,  4.,  5.,  6.,  7.,  8.,  9., 10.]))\n"
     ]
    }
   ],
   "source": [
    "print(np.histogram(transit_stops['bus_routes'].str.len()))"
   ]
  },
  {
   "cell_type": "code",
   "execution_count": 48,
   "id": "roman-continent",
   "metadata": {},
   "outputs": [
    {
     "name": "stdout",
     "output_type": "stream",
     "text": [
      "(array([499, 113, 109,  22,  17,   7,   4,   9,  19], dtype=int64), array([ 0,  2,  3,  4,  5,  6,  7,  8,  9, 10]))\n"
     ]
    }
   ],
   "source": [
    "print(np.histogram(transit_stops['bus_routes'].str.len(),bins=[0,2,3,4,5,6,7,8,9,10]))"
   ]
  },
  {
   "cell_type": "code",
   "execution_count": 49,
   "id": "enclosed-simon",
   "metadata": {},
   "outputs": [
    {
     "name": "stdout",
     "output_type": "stream",
     "text": [
      "62 % of the transit network does not have a transfer.\n"
     ]
    }
   ],
   "source": [
    "print(round(100*499/799),'% of the transit network does not have a transfer.')"
   ]
  }
 ],
 "metadata": {
  "deepnote": {},
  "deepnote_execution_queue": [],
  "deepnote_notebook_id": "ad015c68-1e2c-4230-823c-e1fa7ac58977",
  "kernelspec": {
   "display_name": "Python 3",
   "language": "python",
   "name": "python3"
  },
  "language_info": {
   "codemirror_mode": {
    "name": "ipython",
    "version": 3
   },
   "file_extension": ".py",
   "mimetype": "text/x-python",
   "name": "python",
   "nbconvert_exporter": "python",
   "pygments_lexer": "ipython3",
   "version": "3.7.0"
  }
 },
 "nbformat": 4,
 "nbformat_minor": 5
}
