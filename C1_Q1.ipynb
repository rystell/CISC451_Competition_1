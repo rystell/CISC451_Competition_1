{
 "cells": [
  {
   "cell_type": "markdown",
   "source": "# CISC451/893 Competition 1\n\n**TEAM:**<br>\nRyan Elliott - 05999293<br>\nSizhe Guan 20090459<br>\nVishal Chotara 20307118\n## Question 1<br>\n### Accessibility of Kingston transit\nCity of Kingston has an extensive transit network. The city maintains 23 routes helping connect the east and west urban areas of the city. The urban regions of the city are well serviced by the transit network. The data environment is prepared in this cell. City of Kingston data is fetched using the API. The data evaluated is all the table of all transit stops, table of all driveways (commericial and residential), and table of active busroutes in Kingston. The effectiveness of a transit network is highly correlated to the systems accessibility. Accessibility can mean different things depending on the study. This analysis will define accessbility to be a walking distance of 200m. We will assume that if a bus stop is within 200m of a driveway/address then the stop will be accessible.",
   "metadata": {
    "cell_id": "561ce133-e55e-4e7a-8f09-61361bcb7b92",
    "deepnote_cell_type": "markdown"
   }
  },
  {
   "cell_type": "code",
   "source": "!!pip install -r requirements.txt",
   "metadata": {
    "cell_id": "247cb22b-49b0-43a9-977c-cfe98c17eca0",
    "tags": [],
    "deepnote_cell_type": "code"
   },
   "outputs": [],
   "execution_count": null
  },
  {
   "cell_type": "code",
   "metadata": {
    "deepnote_to_be_reexecuted": false,
    "execution_millis": 5059,
    "execution_start": 1643915260939,
    "source_hash": "4aae26d6",
    "cell_id": "00001-4a4bdb80-5304-408e-8065-980c4c002b51",
    "deepnote_cell_type": "code"
   },
   "source": "# The data environment is prepared in this cell. City of Kingston data is fetched\n# using the API\n\nimport requests\nimport pandas as pd\nimport numpy as np\nimport json\nstop_api_url = \"https://opendatakingston.cityofkingston.ca/api/records/1.0/search/?dataset=transit-gtfs-stops&q=&rows=799\"\ndriveway_api_url = \"https://opendatakingston.cityofkingston.ca/api/records/1.0/search/?dataset=driveways&q=&rows=-1&facet=material\"\nbusroute_api_url = 'https://opendatakingston.cityofkingston.ca/api/records/1.0/search/?dataset=transit-gtfs-routes&q=&rows=-1&facet=route_short_name&exclude.route_long_name=999+Maintenance+-+Out+of+Service'\nstop_response = requests.get(stop_api_url)\ndriveway_response = requests.get(driveway_api_url)\nbusroute_response = requests.get(busroute_api_url)",
   "outputs": [],
   "execution_count": null
  },
  {
   "cell_type": "code",
   "metadata": {
    "deepnote_to_be_reexecuted": false,
    "execution_millis": 760,
    "execution_start": 1643915272296,
    "source_hash": "4d492f7f",
    "cell_id": "00002-0944ef4f-07ba-429b-afe7-864fc358b1d7",
    "deepnote_cell_type": "code"
   },
   "source": "# Data must be unpacked using json() method.\nx = stop_response.json()\nx_driveway = driveway_response.json()\nx_busroute = busroute_response.json()\n\n# The json() frames are then turned into Pandas dataframes.\ntransit_stops = pd.json_normalize(x,'records')\ndriveways = pd.json_normalize(x_driveway,'records')\nbusroute = pd.json_normalize(x_busroute,'records')",
   "outputs": [],
   "execution_count": null
  },
  {
   "cell_type": "markdown",
   "source": "The city actively maintains and updates the opendata the databases. Sometimes the new records do not have GPS coordinates. The records without GPS coordinates are removed from analysis.",
   "metadata": {
    "cell_id": "00003-39325c4c-a020-4b8a-b0ec-8f75ac5ca57e",
    "deepnote_cell_type": "markdown"
   }
  },
  {
   "cell_type": "code",
   "metadata": {
    "deepnote_output_heights": [
     232
    ],
    "deepnote_to_be_reexecuted": false,
    "execution_millis": 18,
    "execution_start": 1643915287849,
    "source_hash": "d700c978",
    "cell_id": "00004-d8eff0d8-4577-45dc-ba6f-b28e74eb953b",
    "deepnote_cell_type": "code"
   },
   "source": "# drops data if there is no GPS coordinates.\ndriveways = driveways.dropna(subset = ['fields.geo_point_2d'],how = 'all')",
   "outputs": [],
   "execution_count": null
  },
  {
   "cell_type": "markdown",
   "source": "GPS coordinates are points on a sphere. Measuring the distance between poinst cannot be completed in cartesian space. The points must be projected onto a sphere to measure the arc length between the points. The haversin function is a common approximation used to measure the poits between two GPS coordinates.",
   "metadata": {
    "cell_id": "00005-d25bb02d-3a39-4d04-8db5-1d23115e5eee",
    "deepnote_cell_type": "markdown"
   }
  },
  {
   "cell_type": "code",
   "metadata": {
    "deepnote_to_be_reexecuted": false,
    "execution_millis": 14,
    "execution_start": 1643675459705,
    "source_hash": "8719fc02",
    "cell_id": "00006-5d77a3da-521d-4228-960b-422049e4c4d9",
    "deepnote_cell_type": "code"
   },
   "source": "import math\n\ndef haversine(coord1,coord2):\n    # Takes two coordinate vectors coord1 and coord2 and \n    # returns the distance between two points in metres\n    \n    # Radius of the Earth at Kingston. \n    # Assuming mean elevation of 93m above sea level.\n    R = 6367869\n    lat1, lon1 = coord1\n    lat2, lon2 = coord2\n    \n    phi1, phi2 = math.radians(lat1), math.radians(lat2)\n    dphi       = math.radians(lat2 - lat1)\n    dlambda    = math.radians(lon2 - lon1)\n    \n    a = math.sin(dphi/2)**2 + \\\n        math.cos(phi1)*math.cos(phi2)*math.sin(dlambda/2)**2\n    \n    return 2*R*math.atan2(math.sqrt(a),math.sqrt(1-a))",
   "outputs": [],
   "execution_count": null
  },
  {
   "cell_type": "code",
   "metadata": {
    "cell_id": "00007-ac6744ce-cf68-40a9-85bd-f078b9e16815",
    "deepnote_cell_type": "code"
   },
   "source": "transit_stops['bus_routes'] = pd.Series()",
   "outputs": [
    {
     "name": "stderr",
     "output_type": "stream",
     "text": "c:\\users\\ryan\\appdata\\local\\programs\\python\\python37\\lib\\site-packages\\ipykernel_launcher.py:1: DeprecationWarning: The default dtype for empty Series will be 'object' instead of 'float64' in a future version. Specify a dtype explicitly to silence this warning.\n  \"\"\"Entry point for launching an IPython kernel.\n"
    }
   ],
   "execution_count": null
  },
  {
   "cell_type": "markdown",
   "source": "Next we evaluate the distance of the driveways to all the bus stops. An array is created of the distance of each driveway to each bus stop.",
   "metadata": {
    "cell_id": "00008-2e6a01a4-2e4e-4fef-90c4-f788e44f8adb",
    "deepnote_cell_type": "markdown"
   }
  },
  {
   "cell_type": "code",
   "metadata": {
    "deepnote_to_be_reexecuted": false,
    "execution_millis": 75,
    "execution_start": 1643675459795,
    "source_hash": "570f8499",
    "cell_id": "00009-afb4aa5d-6c0f-487c-b414-2cb77a780ba8",
    "deepnote_cell_type": "code"
   },
   "source": "transit_lat = transit_stops['fields.stop_coordinates'].explode().to_numpy()[::2]\ntransit_long = transit_stops['fields.stop_coordinates'].explode().to_numpy()[1::2]\ntransit_coords = np.column_stack((transit_lat,transit_long))\n\ndriveway_lat = driveways['fields.geo_point_2d'].explode().to_numpy()[::2]\ndriveway_long =  driveways['fields.geo_point_2d'].explode().to_numpy()[1::2]\n\ndriveway_coords = np.column_stack((driveway_lat,driveway_long))",
   "outputs": [],
   "execution_count": null
  },
  {
   "cell_type": "code",
   "metadata": {
    "deepnote_to_be_reexecuted": false,
    "execution_millis": 88008,
    "execution_start": 1643675459874,
    "source_hash": "ddadcf06",
    "cell_id": "00010-9756908b-1684-41fa-a387-778b1c08f687",
    "deepnote_cell_type": "code"
   },
   "source": "stop_distance = np.ndarray(shape = [driveway_lat.size,transit_lat.size])\nk = 0\nl = 0\n\nfor i in driveway_coords:\n    l = 0\n    for j in transit_coords:\n        stop_distance[k,l] = haversine(i,j)\n        l = l+1\n    k = k+1",
   "outputs": [],
   "execution_count": null
  },
  {
   "cell_type": "code",
   "metadata": {
    "deepnote_to_be_reexecuted": false,
    "execution_millis": 33,
    "execution_start": 1643675547919,
    "source_hash": "7d4fdd5b",
    "cell_id": "00011-5d56aace-6e86-4d39-a2a7-9f48ff06fa7d",
    "deepnote_cell_type": "code"
   },
   "source": "closest_stop = stop_distance.min(axis = 1)\nprint('median distance to a stop: ',round(np.median(closest_stop)),'m')\nprint('average distance to a stop: ',round(closest_stop.mean()),'m')",
   "outputs": [
    {
     "name": "stdout",
     "output_type": "stream",
     "text": "median distance to a stop:  199 m\naverage distance to a stop:  1287 m\n"
    }
   ],
   "execution_count": null
  },
  {
   "cell_type": "markdown",
   "source": "Half of all the driveways in Kingston are within 200m of a bus stop. The average distance to a bus stop is heavily skewed by driveways that are not in the urban part of the city of Kingston.<br><br>\nWe may also evaluate which stops in the network are walkable. We find that 706 of 799 stops are within 200m ",
   "metadata": {
    "cell_id": "00012-a0d27fc2-e411-4144-9c4b-0a2b2b12c3b3",
    "deepnote_cell_type": "markdown"
   }
  },
  {
   "cell_type": "code",
   "metadata": {
    "cell_id": "00013-c0cc8458-4e8d-4261-9cd5-07a1f8fe2364",
    "deepnote_cell_type": "code"
   },
   "source": "stop_density = stop_distance < 200\nwalkable_stop = stop_density.sum(axis=0)>0\nprint(walkable_stop.sum())",
   "outputs": [
    {
     "name": "stdout",
     "output_type": "stream",
     "text": "706\n"
    }
   ],
   "execution_count": null
  },
  {
   "cell_type": "markdown",
   "source": "The next section of code is trying to determine which routes service which stops and can be used to determine which stops serve as potential transfers between bus routes. A stop is said to be part of a bus route if the haversine formula measures a distance of \\<200m of the shaded route to the stop. The routes are stored in a list for that record in the data frame.",
   "metadata": {
    "tags": [],
    "cell_id": "00014-3d615ac2-4be5-4ae9-b6b3-faed03ad1962",
    "deepnote_cell_type": "markdown"
   }
  },
  {
   "cell_type": "code",
   "metadata": {
    "scrolled": true,
    "tags": [],
    "cell_id": "00015-4c5ff612-c347-4fb5-acaa-d8a407b38f1a",
    "deepnote_cell_type": "code"
   },
   "source": "# The calculation needs to be complete for all bus stops. Stops need to be recorded in the dataframe. TBD.\nk = 0\nfor s in transit_stops['fields.stop_coordinates']:\n    stop_test = np.array(s)\n    route_list = list()\n    for route, ind in enumerate(busroute['fields.shape.coordinates']):\n        p = 0\n        route_test = np.array(busroute['fields.shape.coordinates'][route][0])\n        for ind in route_test:\n            test_param = haversine(np.flip(route_test[p]),stop_test)\n            if test_param<150:\n                # Append bus route to list.\n                route_list.append(busroute['fields.route_short_name'][route])\n                # Loop breaks if stop identified as being within 100m of bus route.\n                break\n\n\n            p = p+1\n\n    transit_stops['bus_routes'][k] = route_list\n    # print(transit_stops['fields.stop_name'][k],\" \",transit_stops['bus_routes'][k])\n    k = k+1\n\n",
   "outputs": [
    {
     "name": "stderr",
     "output_type": "stream",
     "text": "c:\\users\\ryan\\appdata\\local\\programs\\python\\python37\\lib\\site-packages\\ipykernel_launcher.py:20: SettingWithCopyWarning: \nA value is trying to be set on a copy of a slice from a DataFrame\n\nSee the caveats in the documentation: https://pandas.pydata.org/pandas-docs/stable/user_guide/indexing.html#returning-a-view-versus-a-copy\nc:\\users\\ryan\\appdata\\local\\programs\\python\\python37\\lib\\site-packages\\pandas\\core\\indexing.py:670: SettingWithCopyWarning: \nA value is trying to be set on a copy of a slice from a DataFrame\n\nSee the caveats in the documentation: https://pandas.pydata.org/pandas-docs/stable/user_guide/indexing.html#returning-a-view-versus-a-copy\n  iloc._setitem_with_indexer(indexer, value)\n"
    }
   ],
   "execution_count": null
  },
  {
   "cell_type": "markdown",
   "source": "The number of routes each stop services can be seen accross the network using a histogram. There are 38 stops which were not assigned to a route. This is likely due to the distcrete spacing of the GPS shape coordinates in the bus route feature. These can be binned with the stops that service a single route. What is pretty interesting is that there are 19 bus stops that have 10 bus routes within 200m of the stop.",
   "metadata": {
    "cell_id": "00016-d81d837d-045d-45f6-913b-5dbdc05605ff",
    "deepnote_cell_type": "markdown"
   }
  },
  {
   "cell_type": "code",
   "metadata": {
    "cell_id": "00017-99d60d68-acd0-4de4-90a8-6a888ee4a0a6",
    "deepnote_cell_type": "code"
   },
   "source": "print(np.histogram(transit_stops['bus_routes'].str.len()))",
   "outputs": [
    {
     "name": "stdout",
     "output_type": "stream",
     "text": "(array([ 38, 461, 113, 109,  22,  17,   7,   4,   9,  19], dtype=int64), array([ 0.,  1.,  2.,  3.,  4.,  5.,  6.,  7.,  8.,  9., 10.]))\n"
    }
   ],
   "execution_count": null
  },
  {
   "cell_type": "code",
   "metadata": {
    "cell_id": "00018-097c5d71-769c-4f82-9c1b-e9f4fab86d28",
    "deepnote_cell_type": "code"
   },
   "source": "print(np.histogram(transit_stops['bus_routes'].str.len(),bins=[0,2,3,4,5,6,7,8,9,10]))",
   "outputs": [
    {
     "name": "stdout",
     "output_type": "stream",
     "text": "(array([499, 113, 109,  22,  17,   7,   4,   9,  19], dtype=int64), array([ 0,  2,  3,  4,  5,  6,  7,  8,  9, 10]))\n"
    }
   ],
   "execution_count": null
  },
  {
   "cell_type": "code",
   "metadata": {
    "cell_id": "00019-25c1334a-8c90-401c-8dd6-44d880c02ebb",
    "deepnote_cell_type": "code"
   },
   "source": "print(round(100*499/799),'% of the transit network does not have a transfer.')",
   "outputs": [
    {
     "name": "stdout",
     "output_type": "stream",
     "text": "62 % of the transit network does not have a transfer.\n"
    }
   ],
   "execution_count": null
  },
  {
   "cell_type": "markdown",
   "source": "<a style='text-decoration:none;line-height:16px;display:flex;color:#5B5B62;padding:10px;justify-content:end;' href='https://deepnote.com?utm_source=created-in-deepnote-cell&projectId=ba3a38b4-573b-4649-8117-71de8550c212' target=\"_blank\">\n<img alt='Created in deepnote.com' style='display:inline;max-height:16px;margin:0px;margin-right:7.5px;' src='data:image/svg+xml;base64,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' > </img>\nCreated in <span style='font-weight:600;margin-left:4px;'>Deepnote</span></a>",
   "metadata": {
    "tags": [],
    "created_in_deepnote_cell": true,
    "deepnote_cell_type": "markdown"
   }
  }
 ],
 "nbformat": 4,
 "nbformat_minor": 5,
 "metadata": {
  "deepnote": {},
  "deepnote_execution_queue": [],
  "deepnote_notebook_id": "bb810599-825e-4812-96aa-207837a6e59d",
  "kernelspec": {
   "display_name": "Python 3",
   "language": "python",
   "name": "python3"
  },
  "language_info": {
   "codemirror_mode": {
    "name": "ipython",
    "version": 3
   },
   "file_extension": ".py",
   "mimetype": "text/x-python",
   "name": "python",
   "nbconvert_exporter": "python",
   "pygments_lexer": "ipython3",
   "version": "3.7.0"
  }
 }
}