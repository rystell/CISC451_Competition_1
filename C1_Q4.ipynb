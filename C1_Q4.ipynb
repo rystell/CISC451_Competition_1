{
 "cells": [
  {
   "cell_type": "markdown",
   "source": "# CISC451/893 Competition 1\n\n**TEAM:**<br>\nRyan Elliott - 05999293<br>\nSizhe Guan 20090459<br>\nVishal Chotara 20307118\n## Question 4<br>\n### Interesting features of Kingston Transit Network\nPlanning bus routes for a city the size of Kingston can be challenging. The network must balance the low urban density with ease of access as well as creating a system that can has a degree of finanical sustainability. The system in its current deployment prioritizes stop distribution within the urban city rather than high network connectivity. To determine how connected the transit system is, a \"transfer\" feature was defined. We chose to define this feature as the number of bus routes within 200m of a bus stop.",
   "metadata": {
    "cell_id": "ee46cb2a-bf71-4c92-be6d-cddbca2a1354",
    "deepnote_cell_type": "markdown"
   }
  },
  {
   "cell_type": "code",
   "source": "!!pip install -r requirements.txt",
   "metadata": {
    "cell_id": "7cd7ed26-fed0-4b58-9bcb-bde5e8fb1ee8",
    "tags": [],
    "deepnote_to_be_reexecuted": false,
    "source_hash": "388c821",
    "execution_start": 1644786264121,
    "execution_millis": 4844,
    "deepnote_output_heights": [
     1
    ],
    "deepnote_cell_type": "code"
   },
   "outputs": [
    {
     "output_type": "execute_result",
     "execution_count": 26,
     "data": {
      "text/plain": "['Requirement already satisfied: geopandas in /root/venv/lib/python3.7/site-packages (from -r requirements.txt (line 1)) (0.10.2)',\n 'Requirement already satisfied: pandas in /shared-libs/python3.7/py/lib/python3.7/site-packages (from -r requirements.txt (line 2)) (1.2.5)',\n 'Requirement already satisfied: numpy in /shared-libs/python3.7/py/lib/python3.7/site-packages (from -r requirements.txt (line 3)) (1.19.5)',\n 'Requirement already satisfied: openpyxl in /root/venv/lib/python3.7/site-packages (from -r requirements.txt (line 4)) (3.0.9)',\n 'Requirement already satisfied: xlrd in /root/venv/lib/python3.7/site-packages (from -r requirements.txt (line 5)) (2.0.1)',\n 'Requirement already satisfied: geopy in /root/venv/lib/python3.7/site-packages (from -r requirements.txt (line 6)) (2.2.0)',\n 'ERROR: Could not find a version that satisfies the requirement json (from -r requirements.txt (line 7)) (from versions: none)',\n 'ERROR: No matching distribution found for json (from -r requirements.txt (line 7))',\n 'WARNING: You are using pip version 20.1.1; however, version 22.0.3 is available.',\n \"You should consider upgrading via the '/root/venv/bin/python -m pip install --upgrade pip' command.\"]"
     },
     "metadata": {}
    }
   ],
   "execution_count": 26
  },
  {
   "cell_type": "code",
   "metadata": {
    "deepnote_to_be_reexecuted": false,
    "execution_millis": 5291,
    "execution_start": 1644785902608,
    "source_hash": "fe73fa81",
    "cell_id": "00001-929b38d5-7906-4817-a940-f971bbda4b6e",
    "deepnote_cell_type": "code"
   },
   "source": "# The data environment is prepared in this cell. City of Kingston data is fetched\n# using the API\n\nimport requests\nimport pandas as pd\nimport numpy as np\nimport json\nimport matplotlib.pyplot as plt\nstop_api_url = \"https://opendatakingston.cityofkingston.ca/api/records/1.0/search/?dataset=transit-gtfs-stops&q=&rows=799\"\ndriveway_api_url = \"https://opendatakingston.cityofkingston.ca/api/records/1.0/search/?dataset=driveways&q=&rows=-1&facet=material\"\nbusroute_api_url = 'https://opendatakingston.cityofkingston.ca/api/records/1.0/search/?dataset=transit-gtfs-routes&q=&rows=-1&facet=route_short_name&exclude.route_long_name=999+Maintenance+-+Out+of+Service'\nstop_response = requests.get(stop_api_url)\ndriveway_response = requests.get(driveway_api_url)\nbusroute_response = requests.get(busroute_api_url)",
   "execution_count": 23,
   "outputs": []
  },
  {
   "cell_type": "code",
   "metadata": {
    "deepnote_to_be_reexecuted": false,
    "execution_millis": 11180,
    "execution_start": 1644783750376,
    "source_hash": "24c8b315",
    "cell_id": "00002-0955d4cf-421c-44fd-998d-0e4a349433a2",
    "deepnote_cell_type": "code"
   },
   "source": "# Data must be unpacked using json() method.\nx = stop_response.json()\nx_driveway = driveway_response.json()\nx_busroute = busroute_response.json()\n\n# The json() frames are then turned into Pandas dataframes.\ntransit_stops = pd.json_normalize(x,'records')\ndriveways = pd.json_normalize(x_driveway,'records')\nbusroute = pd.json_normalize(x_busroute,'records')",
   "outputs": [],
   "execution_count": null
  },
  {
   "cell_type": "markdown",
   "source": "The city actively maintains and updates the opendata the databases. Sometimes the new records do not have GPS coordinates. The records without GPS coordinates are removed from analysis.",
   "metadata": {
    "cell_id": "00003-712fec31-4aa6-4eeb-91f4-68c6018cdbd2",
    "deepnote_cell_type": "markdown"
   }
  },
  {
   "cell_type": "code",
   "metadata": {
    "deepnote_output_heights": [
     232
    ],
    "deepnote_to_be_reexecuted": false,
    "execution_millis": 43,
    "execution_start": 1644783761586,
    "source_hash": "17f3708a",
    "cell_id": "00004-9c6a55dd-1c78-4f20-80ea-ac86b308e746",
    "deepnote_cell_type": "code"
   },
   "source": "# drops data if there is no GPS coordinates.\ndriveways = driveways.dropna(subset = ['fields.geo_point_2d'],how = 'all')",
   "outputs": [],
   "execution_count": null
  },
  {
   "cell_type": "markdown",
   "source": "GPS coordinates are points on a sphere. Measuring the distance between poinst cannot be completed in cartesian space. The points must be projected onto a sphere to measure the arc length between the points. The haversin function is a common approximation used to measure the poits between two GPS coordinates.",
   "metadata": {
    "cell_id": "00005-0b37932e-b9c1-4581-ad96-db52e6b53569",
    "deepnote_cell_type": "markdown"
   }
  },
  {
   "cell_type": "code",
   "metadata": {
    "deepnote_to_be_reexecuted": false,
    "execution_millis": 22,
    "execution_start": 1644783761661,
    "source_hash": "c60b0fcd",
    "cell_id": "00006-e9ccd342-176e-4073-9000-34ffda95a05b",
    "deepnote_cell_type": "code"
   },
   "source": "import math\n\ndef haversine(coord1,coord2):\n    # Takes two coordinate vectors coord1 and coord2 and \n    # returns the distance between two points in metres\n    \n    # Radius of the Earth at Kingston. \n    # Assuming mean elevation of 93m above sea level.\n    R = 6367869\n    lat1, lon1 = coord1\n    lat2, lon2 = coord2\n    \n    phi1, phi2 = math.radians(lat1), math.radians(lat2)\n    dphi       = math.radians(lat2 - lat1)\n    dlambda    = math.radians(lon2 - lon1)\n    \n    a = math.sin(dphi/2)**2 + \\\n        math.cos(phi1)*math.cos(phi2)*math.sin(dlambda/2)**2\n    \n    return 2*R*math.atan2(math.sqrt(a),math.sqrt(1-a))",
   "outputs": [],
   "execution_count": null
  },
  {
   "cell_type": "code",
   "metadata": {
    "cell_id": "00007-c333f110-bbbb-4ac7-a711-ed6d5ca8442a",
    "deepnote_to_be_reexecuted": false,
    "source_hash": "5c900f5f",
    "execution_start": 1644783761702,
    "execution_millis": 172,
    "deepnote_cell_type": "code"
   },
   "source": "transit_stops['bus_routes'] = pd.Series()",
   "outputs": [
    {
     "name": "stderr",
     "text": "/shared-libs/python3.7/py-core/lib/python3.7/site-packages/ipykernel_launcher.py:1: DeprecationWarning: The default dtype for empty Series will be 'object' instead of 'float64' in a future version. Specify a dtype explicitly to silence this warning.\n  \"\"\"Entry point for launching an IPython kernel.\n",
     "output_type": "stream"
    }
   ],
   "execution_count": null
  },
  {
   "cell_type": "markdown",
   "source": "The next section of code is trying to determine which routes service which stops and can be used to determine which stops serve as potential transfers between bus routes. A stop is said to be part of a bus route if the haversine formula measures a distance of \\<200m of the shaded route to the stop. The routes are stored in a list for that record in the data frame.",
   "metadata": {
    "tags": [],
    "cell_id": "00014-5ee7a053-a9ba-40a9-a349-1ccb59d75ff0",
    "deepnote_cell_type": "markdown"
   }
  },
  {
   "cell_type": "code",
   "metadata": {
    "scrolled": true,
    "tags": [],
    "cell_id": "00015-eedcc8a7-e8cb-49e6-8932-6261e543caac",
    "deepnote_to_be_reexecuted": false,
    "source_hash": "82853787",
    "execution_start": 1644783761792,
    "execution_millis": 45483,
    "deepnote_cell_type": "code"
   },
   "source": "# The calculation needs to be complete for all bus stops. Stops need to be recorded in the dataframe. TBD.\nk = 0\nfor s in transit_stops['fields.stop_coordinates']:\n    stop_test = np.array(s)\n    route_list = list()\n    for route, ind in enumerate(busroute['fields.shape.coordinates']):\n        p = 0\n        route_test = np.array(busroute['fields.shape.coordinates'][route][0])\n        for ind in route_test:\n            test_param = haversine(np.flip(route_test[p]),stop_test)\n            if test_param<150:\n                # Append bus route to list.\n                route_list.append(busroute['fields.route_short_name'][route])\n                # Loop breaks if stop identified as being within 100m of bus route.\n                break\n\n\n            p = p+1\n\n    transit_stops['bus_routes'][k] = route_list\n    # print(transit_stops['fields.stop_name'][k],\" \",transit_stops['bus_routes'][k])\n    k = k+1\n\n",
   "outputs": [
    {
     "name": "stderr",
     "text": "/shared-libs/python3.7/py-core/lib/python3.7/site-packages/ipykernel_launcher.py:20: SettingWithCopyWarning: \nA value is trying to be set on a copy of a slice from a DataFrame\n\nSee the caveats in the documentation: https://pandas.pydata.org/pandas-docs/stable/user_guide/indexing.html#returning-a-view-versus-a-copy\n/shared-libs/python3.7/py/lib/python3.7/site-packages/pandas/core/indexing.py:1637: SettingWithCopyWarning: \nA value is trying to be set on a copy of a slice from a DataFrame\n\nSee the caveats in the documentation: https://pandas.pydata.org/pandas-docs/stable/user_guide/indexing.html#returning-a-view-versus-a-copy\n  self._setitem_single_block(indexer, value, name)\n",
     "output_type": "stream"
    }
   ],
   "execution_count": null
  },
  {
   "cell_type": "markdown",
   "source": "The number of routes each stop services can be seen accross the network using a histogram. There are 38 stops which were not assigned to a route. This is likely due to the distcrete spacing of the GPS shape coordinates in the bus route feature. These can be binned with the stops that service a single route. What is pretty interesting is that there are 19 bus stops that have 10 bus routes within 200m of the stop.",
   "metadata": {
    "cell_id": "00016-d5493349-4038-4283-8bcb-da187eef4653",
    "deepnote_cell_type": "markdown"
   }
  },
  {
   "cell_type": "code",
   "metadata": {
    "cell_id": "00017-d53cf7a1-e625-433a-9e0a-0e62beac4dd1",
    "deepnote_to_be_reexecuted": false,
    "source_hash": "73ccba94",
    "execution_start": 1644783807317,
    "execution_millis": 3,
    "deepnote_cell_type": "code"
   },
   "source": "print(np.histogram(transit_stops['bus_routes'].str.len()))",
   "outputs": [
    {
     "name": "stdout",
     "text": "(array([ 38, 461, 113, 109,  22,  17,   7,   4,   9,  19]), array([ 0.,  1.,  2.,  3.,  4.,  5.,  6.,  7.,  8.,  9., 10.]))\n",
     "output_type": "stream"
    }
   ],
   "execution_count": null
  },
  {
   "cell_type": "code",
   "metadata": {
    "cell_id": "00018-6a8989d7-4c1f-4890-90aa-fcc653be10db",
    "deepnote_to_be_reexecuted": false,
    "source_hash": "4d221bc5",
    "execution_start": 1644783807374,
    "execution_millis": 45,
    "deepnote_cell_type": "code"
   },
   "source": "print(np.histogram(transit_stops['bus_routes'].str.len(),bins=[0,2,3,4,5,6,7,8,9,10]))",
   "outputs": [
    {
     "name": "stdout",
     "text": "(array([499, 113, 109,  22,  17,   7,   4,   9,  19]), array([ 0,  2,  3,  4,  5,  6,  7,  8,  9, 10]))\n",
     "output_type": "stream"
    }
   ],
   "execution_count": null
  },
  {
   "cell_type": "code",
   "metadata": {
    "cell_id": "00019-8de359f6-3ed5-45e1-a275-be0f1846e410",
    "deepnote_to_be_reexecuted": false,
    "source_hash": "b787f3db",
    "execution_start": 1644783807461,
    "execution_millis": 0,
    "deepnote_cell_type": "code"
   },
   "source": "print(round(100*499/799),'% of the transit network does not have a transfer.')",
   "outputs": [
    {
     "name": "stdout",
     "text": "62 % of the transit network does not have a transfer.\n",
     "output_type": "stream"
    }
   ],
   "execution_count": null
  },
  {
   "cell_type": "markdown",
   "source": "### Analyzing October 2017 Transit Data\n\nRiding data from October 2017 provided to us by City of Kingston where each data point includes date/time, the type of boarding, bus and route number, and latitude/longitude where the boarding was recorded.  \n\nWe will be performing surface-level statistical analysis on the data to see if there is anything we can discover to improve the bus routes of Kingston.",
   "metadata": {
    "cell_id": "9e568648-5bb5-45b9-8250-de8e9f2ce913",
    "tags": [],
    "deepnote_cell_type": "markdown"
   }
  },
  {
   "cell_type": "code",
   "source": "transit_df = pd.read_excel('Transit Data - October.xlsx')\ntransit_df.head()",
   "metadata": {
    "cell_id": "a172cdb5-f16c-4ce3-9fa6-42cdb79e4661",
    "tags": [],
    "deepnote_to_be_reexecuted": false,
    "source_hash": "bb3f1c1c",
    "execution_start": 1644784585972,
    "execution_millis": 289014,
    "deepnote_cell_type": "code"
   },
   "outputs": [
    {
     "output_type": "execute_result",
     "execution_count": 10,
     "data": {
      "application/vnd.deepnote.dataframe.v3+json": {
       "column_count": 8,
       "row_count": 5,
       "columns": [
        {
         "name": "Date",
         "dtype": "datetime64[ns]",
         "stats": {
          "unique_count": 1,
          "nan_count": 0,
          "min": "2017-10-01 00:00:00",
          "max": "2017-10-01 00:00:00",
          "histogram": null
         }
        },
        {
         "name": "Time",
         "dtype": "datetime64[ns]",
         "stats": {
          "unique_count": 5,
          "nan_count": 0,
          "min": "1900-01-01 01:43:03",
          "max": "1900-01-01 01:58:27",
          "histogram": [
           {
            "bin_start": -2208982617000000000,
            "bin_end": -2208982524600000000,
            "count": 2
           },
           {
            "bin_start": -2208982524600000000,
            "bin_end": -2208982432200000000,
            "count": 0
           },
           {
            "bin_start": -2208982432200000000,
            "bin_end": -2208982339800000000,
            "count": 0
           },
           {
            "bin_start": -2208982339800000000,
            "bin_end": -2208982247400000000,
            "count": 0
           },
           {
            "bin_start": -2208982247400000000,
            "bin_end": -2208982155000000000,
            "count": 0
           },
           {
            "bin_start": -2208982155000000000,
            "bin_end": -2208982062600000000,
            "count": 0
           },
           {
            "bin_start": -2208982062600000000,
            "bin_end": -2208981970200000000,
            "count": 0
           },
           {
            "bin_start": -2208981970200000000,
            "bin_end": -2208981877800000000,
            "count": 0
           },
           {
            "bin_start": -2208981877800000000,
            "bin_end": -2208981785400000000,
            "count": 0
           },
           {
            "bin_start": -2208981785400000000,
            "bin_end": -2208981693000000000,
            "count": 3
           }
          ]
         }
        },
        {
         "name": "Class",
         "dtype": "object",
         "stats": {
          "unique_count": 2,
          "nan_count": 0,
          "categories": [
           {
            "name": "QUEENS",
            "count": 4
           },
           {
            "name": "ADULT",
            "count": 1
           }
          ]
         }
        },
        {
         "name": "Operation",
         "dtype": "object",
         "stats": {
          "unique_count": 2,
          "nan_count": 0,
          "categories": [
           {
            "name": "Exact Fare",
            "count": 4
           },
           {
            "name": "Pass (Multi-ride card)",
            "count": 1
           }
          ]
         }
        },
        {
         "name": "Bus",
         "dtype": "int64",
         "stats": {
          "unique_count": 1,
          "nan_count": 0,
          "min": "620",
          "max": "620",
          "histogram": [
           {
            "bin_start": 619.5,
            "bin_end": 619.6,
            "count": 0
           },
           {
            "bin_start": 619.6,
            "bin_end": 619.7,
            "count": 0
           },
           {
            "bin_start": 619.7,
            "bin_end": 619.8,
            "count": 0
           },
           {
            "bin_start": 619.8,
            "bin_end": 619.9,
            "count": 0
           },
           {
            "bin_start": 619.9,
            "bin_end": 620,
            "count": 0
           },
           {
            "bin_start": 620,
            "bin_end": 620.1,
            "count": 5
           },
           {
            "bin_start": 620.1,
            "bin_end": 620.2,
            "count": 0
           },
           {
            "bin_start": 620.2,
            "bin_end": 620.3,
            "count": 0
           },
           {
            "bin_start": 620.3,
            "bin_end": 620.4,
            "count": 0
           },
           {
            "bin_start": 620.4,
            "bin_end": 620.5,
            "count": 0
           }
          ]
         }
        },
        {
         "name": "Route",
         "dtype": "int64",
         "stats": {
          "unique_count": 1,
          "nan_count": 0,
          "min": "17",
          "max": "17",
          "histogram": [
           {
            "bin_start": 16.5,
            "bin_end": 16.6,
            "count": 0
           },
           {
            "bin_start": 16.6,
            "bin_end": 16.7,
            "count": 0
           },
           {
            "bin_start": 16.7,
            "bin_end": 16.8,
            "count": 0
           },
           {
            "bin_start": 16.8,
            "bin_end": 16.9,
            "count": 0
           },
           {
            "bin_start": 16.9,
            "bin_end": 17,
            "count": 0
           },
           {
            "bin_start": 17,
            "bin_end": 17.1,
            "count": 5
           },
           {
            "bin_start": 17.1,
            "bin_end": 17.2,
            "count": 0
           },
           {
            "bin_start": 17.2,
            "bin_end": 17.3,
            "count": 0
           },
           {
            "bin_start": 17.3,
            "bin_end": 17.4,
            "count": 0
           },
           {
            "bin_start": 17.4,
            "bin_end": 17.5,
            "count": 0
           }
          ]
         }
        },
        {
         "name": "Latitude",
         "dtype": "float64",
         "stats": {
          "unique_count": 2,
          "nan_count": 0,
          "min": "44.22786",
          "max": "44.232035",
          "histogram": [
           {
            "bin_start": 44.22786,
            "bin_end": 44.2282775,
            "count": 2
           },
           {
            "bin_start": 44.2282775,
            "bin_end": 44.228695,
            "count": 0
           },
           {
            "bin_start": 44.228695,
            "bin_end": 44.2291125,
            "count": 0
           },
           {
            "bin_start": 44.2291125,
            "bin_end": 44.229530000000004,
            "count": 0
           },
           {
            "bin_start": 44.229530000000004,
            "bin_end": 44.2299475,
            "count": 0
           },
           {
            "bin_start": 44.2299475,
            "bin_end": 44.230365,
            "count": 0
           },
           {
            "bin_start": 44.230365,
            "bin_end": 44.230782500000004,
            "count": 0
           },
           {
            "bin_start": 44.230782500000004,
            "bin_end": 44.2312,
            "count": 0
           },
           {
            "bin_start": 44.2312,
            "bin_end": 44.231617500000006,
            "count": 0
           },
           {
            "bin_start": 44.231617500000006,
            "bin_end": 44.232035,
            "count": 3
           }
          ]
         }
        },
        {
         "name": "Longitude",
         "dtype": "float64",
         "stats": {
          "unique_count": 2,
          "nan_count": 0,
          "min": "-76.49693833333333",
          "max": "-76.49139666666666",
          "histogram": [
           {
            "bin_start": -76.49693833333333,
            "bin_end": -76.49638416666667,
            "count": 2
           },
           {
            "bin_start": -76.49638416666667,
            "bin_end": -76.49583,
            "count": 0
           },
           {
            "bin_start": -76.49583,
            "bin_end": -76.49527583333332,
            "count": 0
           },
           {
            "bin_start": -76.49527583333332,
            "bin_end": -76.49472166666666,
            "count": 0
           },
           {
            "bin_start": -76.49472166666666,
            "bin_end": -76.4941675,
            "count": 0
           },
           {
            "bin_start": -76.4941675,
            "bin_end": -76.49361333333333,
            "count": 0
           },
           {
            "bin_start": -76.49361333333333,
            "bin_end": -76.49305916666665,
            "count": 0
           },
           {
            "bin_start": -76.49305916666665,
            "bin_end": -76.492505,
            "count": 0
           },
           {
            "bin_start": -76.492505,
            "bin_end": -76.49195083333333,
            "count": 0
           },
           {
            "bin_start": -76.49195083333333,
            "bin_end": -76.49139666666666,
            "count": 3
           }
          ]
         }
        },
        {
         "name": "_deepnote_index_column",
         "dtype": "int64"
        }
       ],
       "rows": [
        {
         "Date": "2017-10-01T00:00:00.000000",
         "Time": "1900-01-01T01:43:03.000000",
         "Class": "QUEENS",
         "Operation": "Exact Fare",
         "Bus": 620,
         "Route": 17,
         "Latitude": 44.22786,
         "Longitude": -76.49693833333333,
         "_deepnote_index_column": 0
        },
        {
         "Date": "2017-10-01T00:00:00.000000",
         "Time": "1900-01-01T01:43:08.000000",
         "Class": "QUEENS",
         "Operation": "Exact Fare",
         "Bus": 620,
         "Route": 17,
         "Latitude": 44.22786,
         "Longitude": -76.49693833333333,
         "_deepnote_index_column": 1
        },
        {
         "Date": "2017-10-01T00:00:00.000000",
         "Time": "1900-01-01T01:58:13.000000",
         "Class": "ADULT",
         "Operation": "Pass (Multi-ride card)",
         "Bus": 620,
         "Route": 17,
         "Latitude": 44.232035,
         "Longitude": -76.49139666666666,
         "_deepnote_index_column": 2
        },
        {
         "Date": "2017-10-01T00:00:00.000000",
         "Time": "1900-01-01T01:58:25.000000",
         "Class": "QUEENS",
         "Operation": "Exact Fare",
         "Bus": 620,
         "Route": 17,
         "Latitude": 44.232035,
         "Longitude": -76.49139666666666,
         "_deepnote_index_column": 3
        },
        {
         "Date": "2017-10-01T00:00:00.000000",
         "Time": "1900-01-01T01:58:27.000000",
         "Class": "QUEENS",
         "Operation": "Exact Fare",
         "Bus": 620,
         "Route": 17,
         "Latitude": 44.232035,
         "Longitude": -76.49139666666666,
         "_deepnote_index_column": 4
        }
       ]
      },
      "text/plain": "        Date                Time   Class               Operation  Bus  Route  \\\n0 2017-10-01 1900-01-01 01:43:03  QUEENS              Exact Fare  620     17   \n1 2017-10-01 1900-01-01 01:43:08  QUEENS              Exact Fare  620     17   \n2 2017-10-01 1900-01-01 01:58:13   ADULT  Pass (Multi-ride card)  620     17   \n3 2017-10-01 1900-01-01 01:58:25  QUEENS              Exact Fare  620     17   \n4 2017-10-01 1900-01-01 01:58:27  QUEENS              Exact Fare  620     17   \n\n    Latitude  Longitude  \n0  44.227860 -76.496938  \n1  44.227860 -76.496938  \n2  44.232035 -76.491397  \n3  44.232035 -76.491397  \n4  44.232035 -76.491397  ",
      "text/html": "<div>\n<style scoped>\n    .dataframe tbody tr th:only-of-type {\n        vertical-align: middle;\n    }\n\n    .dataframe tbody tr th {\n        vertical-align: top;\n    }\n\n    .dataframe thead th {\n        text-align: right;\n    }\n</style>\n<table border=\"1\" class=\"dataframe\">\n  <thead>\n    <tr style=\"text-align: right;\">\n      <th></th>\n      <th>Date</th>\n      <th>Time</th>\n      <th>Class</th>\n      <th>Operation</th>\n      <th>Bus</th>\n      <th>Route</th>\n      <th>Latitude</th>\n      <th>Longitude</th>\n    </tr>\n  </thead>\n  <tbody>\n    <tr>\n      <th>0</th>\n      <td>2017-10-01</td>\n      <td>1900-01-01 01:43:03</td>\n      <td>QUEENS</td>\n      <td>Exact Fare</td>\n      <td>620</td>\n      <td>17</td>\n      <td>44.227860</td>\n      <td>-76.496938</td>\n    </tr>\n    <tr>\n      <th>1</th>\n      <td>2017-10-01</td>\n      <td>1900-01-01 01:43:08</td>\n      <td>QUEENS</td>\n      <td>Exact Fare</td>\n      <td>620</td>\n      <td>17</td>\n      <td>44.227860</td>\n      <td>-76.496938</td>\n    </tr>\n    <tr>\n      <th>2</th>\n      <td>2017-10-01</td>\n      <td>1900-01-01 01:58:13</td>\n      <td>ADULT</td>\n      <td>Pass (Multi-ride card)</td>\n      <td>620</td>\n      <td>17</td>\n      <td>44.232035</td>\n      <td>-76.491397</td>\n    </tr>\n    <tr>\n      <th>3</th>\n      <td>2017-10-01</td>\n      <td>1900-01-01 01:58:25</td>\n      <td>QUEENS</td>\n      <td>Exact Fare</td>\n      <td>620</td>\n      <td>17</td>\n      <td>44.232035</td>\n      <td>-76.491397</td>\n    </tr>\n    <tr>\n      <th>4</th>\n      <td>2017-10-01</td>\n      <td>1900-01-01 01:58:27</td>\n      <td>QUEENS</td>\n      <td>Exact Fare</td>\n      <td>620</td>\n      <td>17</td>\n      <td>44.232035</td>\n      <td>-76.491397</td>\n    </tr>\n  </tbody>\n</table>\n</div>"
     },
     "metadata": {}
    }
   ],
   "execution_count": 10
  },
  {
   "cell_type": "code",
   "source": "print('Bus routes frequency: ')\ntransit_df['Route'].value_counts()",
   "metadata": {
    "cell_id": "35d2be6c-f65b-4c13-83d3-842bf2562990",
    "tags": [],
    "deepnote_to_be_reexecuted": false,
    "source_hash": "7f98d967",
    "execution_start": 1644784879312,
    "execution_millis": 56,
    "deepnote_output_heights": [
     null,
     424.484375
    ],
    "deepnote_cell_type": "code"
   },
   "outputs": [
    {
     "name": "stdout",
     "text": "Bus routes frequency: \n",
     "output_type": "stream"
    },
    {
     "output_type": "execute_result",
     "execution_count": 11,
     "data": {
      "text/plain": "701    96384\n2      93880\n501    78520\n1      71450\n502    71229\n3      40953\n601    38617\n4      31207\n7      24508\n15     24001\n12     23567\n6      20116\n11     19183\n16     17555\n20     16939\n18     12349\n10     11683\n14      4777\n13      3616\n8       2295\n17      1710\nName: Route, dtype: int64"
     },
     "metadata": {}
    }
   ],
   "execution_count": 11
  },
  {
   "cell_type": "markdown",
   "source": "We can see that a lot of people take the 701 and 2 the most compared to 14,13,8 and 17 which are taken the least. We can choose to ignore results for 8 and 13 as they only operate during hours of peak demand. \n\nNext we will look at routes used by adults and students in Kingston as Kingston has 2 large post-secondary schools.",
   "metadata": {
    "cell_id": "527400bf-1570-46f6-8afd-efdf95124751",
    "tags": [],
    "deepnote_cell_type": "markdown"
   }
  },
  {
   "cell_type": "code",
   "source": "group_df = transit_df.groupby(['Class', 'Route']).size()",
   "metadata": {
    "cell_id": "e0d0af59-7635-42be-9591-2212ba291661",
    "tags": [],
    "deepnote_to_be_reexecuted": false,
    "source_hash": "ee11560a",
    "execution_start": 1644784882174,
    "execution_millis": 110,
    "deepnote_cell_type": "code"
   },
   "outputs": [],
   "execution_count": 12
  },
  {
   "cell_type": "code",
   "source": "# QUEENS Students\nprint('Top 5 routes used by QUEENS group:')\nprint(group_df['QUEENS'].sort_values(ascending=False).head())\nprint('\\n5 least used routes by QUEENS group:')\nprint(group_df['QUEENS'].sort_values().head())",
   "metadata": {
    "cell_id": "96263ab4-f56d-4066-a866-a75947780c39",
    "tags": [],
    "deepnote_to_be_reexecuted": false,
    "source_hash": "c98768e2",
    "execution_start": 1644784884237,
    "execution_millis": 27,
    "deepnote_cell_type": "code"
   },
   "outputs": [
    {
     "name": "stdout",
     "text": "Top 5 routes used by QUEENS group:\nRoute\n2      40960\n1      32019\n701    25570\n501    23531\n502    21594\ndtype: int64\n\n5 least used routes by QUEENS group:\nRoute\n10     213\n14     257\n11     803\n16    1013\n15    1134\ndtype: int64\n",
     "output_type": "stream"
    }
   ],
   "execution_count": 13
  },
  {
   "cell_type": "code",
   "source": "# ADULTS\nprint('Top 5 routes used by ADULT group:')\nprint(group_df['ADULT'].sort_values(ascending=False).head())\nprint('\\n5 least used routes by ADULT group:')\nprint(group_df['ADULT'].sort_values().head())",
   "metadata": {
    "cell_id": "1dbe48c6-4a50-4f15-8558-c98825b98164",
    "tags": [],
    "deepnote_to_be_reexecuted": false,
    "source_hash": "510489c7",
    "execution_start": 1644784887708,
    "execution_millis": 19,
    "deepnote_cell_type": "code"
   },
   "outputs": [
    {
     "name": "stdout",
     "text": "Top 5 routes used by ADULT group:\nRoute\n701    30638\n2      21921\n501    20533\n502    18949\n1      18932\ndtype: int64\n\n5 least used routes by ADULT group:\nRoute\n17      73\n8      230\n20     251\n13     520\n14    1375\ndtype: int64\n",
     "output_type": "stream"
    }
   ],
   "execution_count": 14
  },
  {
   "cell_type": "code",
   "source": "# cleaning time data and then plotting a histogram to show most active times\nplt.figure(figsize=(15,10))\nplt.hist(transit_df['Time'].dt.hour, bins=24)\nplt.show()",
   "metadata": {
    "cell_id": "37690e3c-2266-413e-a82f-468422faec70",
    "tags": [],
    "deepnote_to_be_reexecuted": false,
    "source_hash": "df6ceb3d",
    "execution_start": 1644785915514,
    "execution_millis": 1018,
    "deepnote_output_heights": [
     577
    ],
    "deepnote_cell_type": "code"
   },
   "outputs": [
    {
     "data": {
      "text/plain": "<Figure size 1080x720 with 1 Axes>",
      "image/png": "[encoded data removed]"
     },
     "metadata": {
      "needs_background": "light",
      "image/png": {
       "width": 889,
       "height": 575
      }
     },
     "output_type": "display_data"
    }
   ],
   "execution_count": 25
  },
  {
   "cell_type": "markdown",
   "source": "From the histogram we can see that the most busy time from the pubilc is around 3:00 PM and then there is a sharp decrease in passengers.",
   "metadata": {
    "cell_id": "67740b5b-573f-4813-9db8-349db91203cd",
    "tags": [],
    "deepnote_cell_type": "markdown"
   }
  },
  {
   "cell_type": "markdown",
   "source": "We can see that the top 5 routes used between both groups are the same, only varying in the number of uses. The varying may be due to Queens students using non express buses to get to different parts of campus. This data certainly would allow Kingston to adjust their bus routes to add or remove bus routes based on the frequency of uses, the most busy times, and relate to specific areas of Kingston and see how routes can be planned to provide more service to those specific areas. ",
   "metadata": {
    "cell_id": "66de5492-4a56-460a-ac1f-6a99ea91a8cc",
    "tags": [],
    "deepnote_cell_type": "markdown"
   }
  },
  {
   "cell_type": "markdown",
   "source": "<a style='text-decoration:none;line-height:16px;display:flex;color:#5B5B62;padding:10px;justify-content:end;' href='https://deepnote.com?utm_source=created-in-deepnote-cell&projectId=ba3a38b4-573b-4649-8117-71de8550c212' target=\"_blank\">\n<img alt='Created in deepnote.com' style='display:inline;max-height:16px;margin:0px;margin-right:7.5px;' src='data:image/svg+xml;base64,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' > </img>\nCreated in <span style='font-weight:600;margin-left:4px;'>Deepnote</span></a>",
   "metadata": {
    "tags": [],
    "created_in_deepnote_cell": true,
    "deepnote_cell_type": "markdown"
   }
  }
 ],
 "nbformat": 4,
 "nbformat_minor": 5,
 "metadata": {
  "deepnote": {},
  "deepnote_execution_queue": [],
  "deepnote_notebook_id": "a660f7df-eb0b-4465-8f6a-882e8c5beb79",
  "kernelspec": {
   "display_name": "Python 3",
   "language": "python",
   "name": "python3"
  },
  "language_info": {
   "codemirror_mode": {
    "name": "ipython",
    "version": 3
   },
   "file_extension": ".py",
   "mimetype": "text/x-python",
   "name": "python",
   "nbconvert_exporter": "python",
   "pygments_lexer": "ipython3",
   "version": "3.7.0"
  }
 }
}