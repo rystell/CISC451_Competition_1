{
 "cells": [
  {
   "cell_type": "markdown",
   "id": "metallic-universal",
   "metadata": {},
   "source": [
    "# CISC451/893 Competition 1\n",
    "\n",
    "**TEAM:**<br>\n",
    "Ryan Elliott - 05999293<br>\n",
    "Sizhe Guan 20090459<br>\n",
    "Vishal Chotara 20307118\n",
    "## Question 1<br>\n",
    "### Accessibility of Kingston transit\n",
    "City of Kingston has an extensive transit network. The city maintains 23 routes helping connect the east and west urban areas of the city. The urban regions of the city are well serviced by the transit network. The data environment is prepared in this cell. City of Kingston data is fetched using the API. The data evaluated is all the table of all transit stops, table of all driveways (commericial and residential), and table of active busroutes in Kingston. The effectiveness of a transit network is highly correlated to the systems accessibility. Accessibility can mean different things depending on the study. This analysis will define accessbility to be a walking distance of 200m. We will assume that if a bus stop is within 200m of a driveway/address then the stop will be accessible."
   ]
  },
  {
   "cell_type": "code",
   "execution_count": 1,
   "id": "adaptive-affiliate",
   "metadata": {
    "cell_id": "fd150704-2a67-4e50-b3af-67799d933249",
    "deepnote_cell_type": "code",
    "deepnote_to_be_reexecuted": false,
    "execution_millis": 5059,
    "execution_start": 1643915260939,
    "source_hash": "4aae26d6"
   },
   "outputs": [],
   "source": [
    "# The data environment is prepared in this cell. City of Kingston data is fetched\n",
    "# using the API\n",
    "\n",
    "import requests\n",
    "import pandas as pd\n",
    "import numpy as np\n",
    "import json\n",
    "stop_api_url = \"https://opendatakingston.cityofkingston.ca/api/records/1.0/search/?dataset=transit-gtfs-stops&q=&rows=799\"\n",
    "driveway_api_url = \"https://opendatakingston.cityofkingston.ca/api/records/1.0/search/?dataset=driveways&q=&rows=-1&facet=material\"\n",
    "busroute_api_url = 'https://opendatakingston.cityofkingston.ca/api/records/1.0/search/?dataset=transit-gtfs-routes&q=&rows=-1&facet=route_short_name&exclude.route_long_name=999+Maintenance+-+Out+of+Service'\n",
    "stop_response = requests.get(stop_api_url)\n",
    "driveway_response = requests.get(driveway_api_url)\n",
    "busroute_response = requests.get(busroute_api_url)"
   ]
  },
  {
   "cell_type": "code",
   "execution_count": 3,
   "id": "pharmaceutical-porcelain",
   "metadata": {
    "cell_id": "00002-ff3146c5-35d2-41cf-8aba-a8210f25c34f",
    "deepnote_cell_type": "code",
    "deepnote_to_be_reexecuted": false,
    "execution_millis": 760,
    "execution_start": 1643915272296,
    "source_hash": "4d492f7f"
   },
   "outputs": [],
   "source": [
    "# Data must be unpacked using json() method.\n",
    "x = stop_response.json()\n",
    "x_driveway = driveway_response.json()\n",
    "x_busroute = busroute_response.json()\n",
    "\n",
    "# The json() frames are then turned into Pandas dataframes.\n",
    "transit_stops = pd.json_normalize(x,'records')\n",
    "driveways = pd.json_normalize(x_driveway,'records')\n",
    "busroute = pd.json_normalize(x_busroute,'records')"
   ]
  },
  {
   "cell_type": "markdown",
   "id": "surgical-portuguese",
   "metadata": {},
   "source": [
    "The city actively maintains and updates the opendata the databases. Sometimes the new records do not have GPS coordinates. The records without GPS coordinates are removed from analysis."
   ]
  },
  {
   "cell_type": "code",
   "execution_count": 5,
   "id": "indie-proceeding",
   "metadata": {
    "cell_id": "00004-250aeb05-67c2-4f75-b5d1-82e933a1d14c",
    "deepnote_cell_type": "code",
    "deepnote_output_heights": [
     232
    ],
    "deepnote_to_be_reexecuted": false,
    "execution_millis": 18,
    "execution_start": 1643915287849,
    "source_hash": "d700c978"
   },
   "outputs": [],
   "source": [
    "# drops data if there is no GPS coordinates.\n",
    "driveways = driveways.dropna(subset = ['fields.geo_point_2d'],how = 'all')"
   ]
  },
  {
   "cell_type": "markdown",
   "id": "surgical-demand",
   "metadata": {},
   "source": [
    "GPS coordinates are points on a sphere. Measuring the distance between poinst cannot be completed in cartesian space. The points must be projected onto a sphere to measure the arc length between the points. The haversin function is a common approximation used to measure the poits between two GPS coordinates."
   ]
  },
  {
   "cell_type": "code",
   "execution_count": 6,
   "id": "bizarre-discipline",
   "metadata": {
    "cell_id": "00005-51fd6a9f-c244-427a-92f0-efd2b651c61f",
    "deepnote_cell_type": "code",
    "deepnote_to_be_reexecuted": false,
    "execution_millis": 14,
    "execution_start": 1643675459705,
    "source_hash": "8719fc02"
   },
   "outputs": [],
   "source": [
    "import math\n",
    "\n",
    "def haversine(coord1,coord2):\n",
    "    # Takes two coordinate vectors coord1 and coord2 and \n",
    "    # returns the distance between two points in metres\n",
    "    \n",
    "    # Radius of the Earth at Kingston. \n",
    "    # Assuming mean elevation of 93m above sea level.\n",
    "    R = 6367869\n",
    "    lat1, lon1 = coord1\n",
    "    lat2, lon2 = coord2\n",
    "    \n",
    "    phi1, phi2 = math.radians(lat1), math.radians(lat2)\n",
    "    dphi       = math.radians(lat2 - lat1)\n",
    "    dlambda    = math.radians(lon2 - lon1)\n",
    "    \n",
    "    a = math.sin(dphi/2)**2 + \\\n",
    "        math.cos(phi1)*math.cos(phi2)*math.sin(dlambda/2)**2\n",
    "    \n",
    "    return 2*R*math.atan2(math.sqrt(a),math.sqrt(1-a))"
   ]
  },
  {
   "cell_type": "code",
   "execution_count": 8,
   "id": "consistent-principle",
   "metadata": {},
   "outputs": [
    {
     "name": "stderr",
     "output_type": "stream",
     "text": [
      "c:\\users\\ryan\\appdata\\local\\programs\\python\\python37\\lib\\site-packages\\ipykernel_launcher.py:1: DeprecationWarning: The default dtype for empty Series will be 'object' instead of 'float64' in a future version. Specify a dtype explicitly to silence this warning.\n",
      "  \"\"\"Entry point for launching an IPython kernel.\n"
     ]
    }
   ],
   "source": [
    "transit_stops['bus_routes'] = pd.Series()"
   ]
  },
  {
   "cell_type": "markdown",
   "id": "moving-presence",
   "metadata": {},
   "source": [
    "Next we evaluate the distance of the driveways to all the bus stops. An array is created of the distance of each driveway to each bus stop."
   ]
  },
  {
   "cell_type": "code",
   "execution_count": 10,
   "id": "technological-sister",
   "metadata": {
    "cell_id": "00008-31dfc002-61b0-4b0e-8ea8-a6c54bd8b106",
    "deepnote_cell_type": "code",
    "deepnote_to_be_reexecuted": false,
    "execution_millis": 75,
    "execution_start": 1643675459795,
    "source_hash": "570f8499"
   },
   "outputs": [],
   "source": [
    "transit_lat = transit_stops['fields.stop_coordinates'].explode().to_numpy()[::2]\n",
    "transit_long = transit_stops['fields.stop_coordinates'].explode().to_numpy()[1::2]\n",
    "transit_coords = np.column_stack((transit_lat,transit_long))\n",
    "\n",
    "driveway_lat = driveways['fields.geo_point_2d'].explode().to_numpy()[::2]\n",
    "driveway_long =  driveways['fields.geo_point_2d'].explode().to_numpy()[1::2]\n",
    "\n",
    "driveway_coords = np.column_stack((driveway_lat,driveway_long))"
   ]
  },
  {
   "cell_type": "code",
   "execution_count": 11,
   "id": "sunrise-narrow",
   "metadata": {
    "cell_id": "00009-0881c69c-32b8-4011-b77b-c77a1dc1f933",
    "deepnote_cell_type": "code",
    "deepnote_to_be_reexecuted": false,
    "execution_millis": 88008,
    "execution_start": 1643675459874,
    "source_hash": "ddadcf06"
   },
   "outputs": [],
   "source": [
    "stop_distance = np.ndarray(shape = [driveway_lat.size,transit_lat.size])\n",
    "k = 0\n",
    "l = 0\n",
    "\n",
    "for i in driveway_coords:\n",
    "    l = 0\n",
    "    for j in transit_coords:\n",
    "        stop_distance[k,l] = haversine(i,j)\n",
    "        l = l+1\n",
    "    k = k+1"
   ]
  },
  {
   "cell_type": "code",
   "execution_count": 54,
   "id": "reasonable-president",
   "metadata": {
    "cell_id": "00010-becff03e-d551-46d5-8606-0b69dcf6f8c2",
    "deepnote_cell_type": "code",
    "deepnote_to_be_reexecuted": false,
    "execution_millis": 33,
    "execution_start": 1643675547919,
    "source_hash": "7d4fdd5b"
   },
   "outputs": [
    {
     "name": "stdout",
     "output_type": "stream",
     "text": [
      "median distance to a stop:  199 m\n",
      "average distance to a stop:  1287 m\n"
     ]
    }
   ],
   "source": [
    "closest_stop = stop_distance.min(axis = 1)\n",
    "print('median distance to a stop: ',round(np.median(closest_stop)),'m')\n",
    "print('average distance to a stop: ',round(closest_stop.mean()),'m')"
   ]
  },
  {
   "cell_type": "markdown",
   "id": "spectacular-convenience",
   "metadata": {},
   "source": [
    "Half of all the driveways in Kingston are within 200m of a bus stop. The average distance to a bus stop is heavily skewed by driveways that are not in the urban part of the city of Kingston.<br><br>\n",
    "We may also evaluate which stops in the network are walkable. We find that 706 of 799 stops are within 200m "
   ]
  },
  {
   "cell_type": "code",
   "execution_count": 55,
   "id": "digital-practice",
   "metadata": {},
   "outputs": [
    {
     "name": "stdout",
     "output_type": "stream",
     "text": [
      "706\n"
     ]
    }
   ],
   "source": [
    "stop_density = stop_distance < 200\n",
    "walkable_stop = stop_density.sum(axis=0)>0\n",
    "print(walkable_stop.sum())"
   ]
  },
  {
   "cell_type": "markdown",
   "id": "prompt-credits",
   "metadata": {
    "cell_id": "a1da842b-04d7-4fe0-ad6b-8078185b3f25",
    "deepnote_cell_type": "markdown",
    "tags": []
   },
   "source": [
    "The next section of code is trying to determine which routes service which stops and can be used to determine which stops serve as potential transfers between bus routes. A stop is said to be part of a bus route if the haversine formula measures a distance of \\<200m of the shaded route to the stop. The routes are stored in a list for that record in the data frame."
   ]
  },
  {
   "cell_type": "code",
   "execution_count": 35,
   "id": "turned-mapping",
   "metadata": {
    "cell_id": "77e04f57-67b1-48b8-bbd5-5399727ab11b",
    "deepnote_cell_type": "code",
    "scrolled": true,
    "tags": []
   },
   "outputs": [
    {
     "name": "stderr",
     "output_type": "stream",
     "text": [
      "c:\\users\\ryan\\appdata\\local\\programs\\python\\python37\\lib\\site-packages\\ipykernel_launcher.py:20: SettingWithCopyWarning: \n",
      "A value is trying to be set on a copy of a slice from a DataFrame\n",
      "\n",
      "See the caveats in the documentation: https://pandas.pydata.org/pandas-docs/stable/user_guide/indexing.html#returning-a-view-versus-a-copy\n",
      "c:\\users\\ryan\\appdata\\local\\programs\\python\\python37\\lib\\site-packages\\pandas\\core\\indexing.py:670: SettingWithCopyWarning: \n",
      "A value is trying to be set on a copy of a slice from a DataFrame\n",
      "\n",
      "See the caveats in the documentation: https://pandas.pydata.org/pandas-docs/stable/user_guide/indexing.html#returning-a-view-versus-a-copy\n",
      "  iloc._setitem_with_indexer(indexer, value)\n"
     ]
    }
   ],
   "source": [
    "# The calculation needs to be complete for all bus stops. Stops need to be recorded in the dataframe. TBD.\n",
    "k = 0\n",
    "for s in transit_stops['fields.stop_coordinates']:\n",
    "    stop_test = np.array(s)\n",
    "    route_list = list()\n",
    "    for route, ind in enumerate(busroute['fields.shape.coordinates']):\n",
    "        p = 0\n",
    "        route_test = np.array(busroute['fields.shape.coordinates'][route][0])\n",
    "        for ind in route_test:\n",
    "            test_param = haversine(np.flip(route_test[p]),stop_test)\n",
    "            if test_param<150:\n",
    "                # Append bus route to list.\n",
    "                route_list.append(busroute['fields.route_short_name'][route])\n",
    "                # Loop breaks if stop identified as being within 100m of bus route.\n",
    "                break\n",
    "\n",
    "\n",
    "            p = p+1\n",
    "\n",
    "    transit_stops['bus_routes'][k] = route_list\n",
    "    # print(transit_stops['fields.stop_name'][k],\" \",transit_stops['bus_routes'][k])\n",
    "    k = k+1\n",
    "\n"
   ]
  },
  {
   "cell_type": "markdown",
   "id": "controlling-saying",
   "metadata": {},
   "source": [
    "The number of routes each stop services can be seen accross the network using a histogram. There are 38 stops which were not assigned to a route. This is likely due to the distcrete spacing of the GPS shape coordinates in the bus route feature. These can be binned with the stops that service a single route. What is pretty interesting is that there are 19 bus stops that have 10 bus routes within 200m of the stop."
   ]
  },
  {
   "cell_type": "code",
   "execution_count": 44,
   "id": "bizarre-curtis",
   "metadata": {},
   "outputs": [
    {
     "name": "stdout",
     "output_type": "stream",
     "text": [
      "(array([ 38, 461, 113, 109,  22,  17,   7,   4,   9,  19], dtype=int64), array([ 0.,  1.,  2.,  3.,  4.,  5.,  6.,  7.,  8.,  9., 10.]))\n"
     ]
    }
   ],
   "source": [
    "print(np.histogram(transit_stops['bus_routes'].str.len()))"
   ]
  },
  {
   "cell_type": "code",
   "execution_count": 48,
   "id": "roman-continent",
   "metadata": {},
   "outputs": [
    {
     "name": "stdout",
     "output_type": "stream",
     "text": [
      "(array([499, 113, 109,  22,  17,   7,   4,   9,  19], dtype=int64), array([ 0,  2,  3,  4,  5,  6,  7,  8,  9, 10]))\n"
     ]
    }
   ],
   "source": [
    "print(np.histogram(transit_stops['bus_routes'].str.len(),bins=[0,2,3,4,5,6,7,8,9,10]))"
   ]
  },
  {
   "cell_type": "code",
   "execution_count": 49,
   "id": "enclosed-simon",
   "metadata": {},
   "outputs": [
    {
     "name": "stdout",
     "output_type": "stream",
     "text": [
      "62 % of the transit network does not have a transfer.\n"
     ]
    }
   ],
   "source": [
    "print(round(100*499/799),'% of the transit network does not have a transfer.')"
   ]
  },
  {
   "cell_type": "markdown",
   "id": "numerous-mobile",
   "metadata": {},
   "source": [
    "We can evaluate the October ridership transit data provided by the city of Kingston as an estimate for the daily usage of the transit network. We can see if there is a correlation between ridership (which stops riders are boarding) and distance from driveways to bus stops."
   ]
  },
  {
   "cell_type": "code",
   "execution_count": 15,
   "id": "convinced-mount",
   "metadata": {},
   "outputs": [],
   "source": [
    "ridership = pd.read_excel('./Transit Data - October.xlsx',engine = 'openpyxl')"
   ]
  },
  {
   "cell_type": "code",
   "execution_count": 63,
   "id": "proud-japanese",
   "metadata": {},
   "outputs": [
    {
     "data": {
      "text/html": [
       "<div>\n",
       "<style scoped>\n",
       "    .dataframe tbody tr th:only-of-type {\n",
       "        vertical-align: middle;\n",
       "    }\n",
       "\n",
       "    .dataframe tbody tr th {\n",
       "        vertical-align: top;\n",
       "    }\n",
       "\n",
       "    .dataframe thead th {\n",
       "        text-align: right;\n",
       "    }\n",
       "</style>\n",
       "<table border=\"1\" class=\"dataframe\">\n",
       "  <thead>\n",
       "    <tr style=\"text-align: right;\">\n",
       "      <th></th>\n",
       "      <th>datasetid</th>\n",
       "      <th>recordid</th>\n",
       "      <th>record_timestamp</th>\n",
       "      <th>fields.stop_id</th>\n",
       "      <th>fields.stop_name</th>\n",
       "      <th>fields.stop_coordinates</th>\n",
       "      <th>fields.wheelchair_boarding</th>\n",
       "      <th>geometry.type</th>\n",
       "      <th>geometry.coordinates</th>\n",
       "      <th>bus_routes</th>\n",
       "    </tr>\n",
       "  </thead>\n",
       "  <tbody>\n",
       "    <tr>\n",
       "      <th>0</th>\n",
       "      <td>transit-gtfs-stops</td>\n",
       "      <td>dc7bd0c8aafac3b95b52efe8b156deb1ac229524</td>\n",
       "      <td>2022-01-19T09:00:48.798000+00:00</td>\n",
       "      <td>00799</td>\n",
       "      <td>Norwest Road (east side of Midland)</td>\n",
       "      <td>[44.25722, -76.57395]</td>\n",
       "      <td>0</td>\n",
       "      <td>Point</td>\n",
       "      <td>[-76.57395, 44.25722]</td>\n",
       "      <td>[6, 15, 7, 14, 501, 4, 10, COV]</td>\n",
       "    </tr>\n",
       "    <tr>\n",
       "      <th>1</th>\n",
       "      <td>transit-gtfs-stops</td>\n",
       "      <td>8c6767e3195d529b6d3af49f57a34b5b8580fe0e</td>\n",
       "      <td>2022-01-19T09:00:48.798000+00:00</td>\n",
       "      <td>00850</td>\n",
       "      <td>Centennial Drive (south side of Cataraqui Woods)</td>\n",
       "      <td>[44.26926, -76.55933]</td>\n",
       "      <td>0</td>\n",
       "      <td>Point</td>\n",
       "      <td>[-76.55933, 44.26926]</td>\n",
       "      <td>[14]</td>\n",
       "    </tr>\n",
       "    <tr>\n",
       "      <th>2</th>\n",
       "      <td>transit-gtfs-stops</td>\n",
       "      <td>15f9b959ea1f08f5318db7905927f9f740ecf9ab</td>\n",
       "      <td>2022-01-19T09:00:48.798000+00:00</td>\n",
       "      <td>09075</td>\n",
       "      <td>Crossfield Avenue (west side of Andersen)</td>\n",
       "      <td>[44.26475, -76.54892]</td>\n",
       "      <td>0</td>\n",
       "      <td>Point</td>\n",
       "      <td>[-76.54892, 44.26475]</td>\n",
       "      <td>[14]</td>\n",
       "    </tr>\n",
       "    <tr>\n",
       "      <th>3</th>\n",
       "      <td>transit-gtfs-stops</td>\n",
       "      <td>5a71a7a20bc0985fe50a0837d38f553177f4545c</td>\n",
       "      <td>2022-01-19T09:00:48.798000+00:00</td>\n",
       "      <td>00858</td>\n",
       "      <td>Chadwick Parkette (west side of Andersen)</td>\n",
       "      <td>[44.26208, -76.54846]</td>\n",
       "      <td>0</td>\n",
       "      <td>Point</td>\n",
       "      <td>[-76.54846, 44.26208]</td>\n",
       "      <td>[14]</td>\n",
       "    </tr>\n",
       "    <tr>\n",
       "      <th>4</th>\n",
       "      <td>transit-gtfs-stops</td>\n",
       "      <td>ec44e9770a1335c6fe80d0ef604dfca4ad792709</td>\n",
       "      <td>2022-01-19T09:00:48.798000+00:00</td>\n",
       "      <td>00407</td>\n",
       "      <td>Vanguard Court (east side of Waterloo)</td>\n",
       "      <td>[44.25257, -76.54781]</td>\n",
       "      <td>0</td>\n",
       "      <td>Point</td>\n",
       "      <td>[-76.54781, 44.25257]</td>\n",
       "      <td>[14]</td>\n",
       "    </tr>\n",
       "  </tbody>\n",
       "</table>\n",
       "</div>"
      ],
      "text/plain": [
       "            datasetid                                  recordid  \\\n",
       "0  transit-gtfs-stops  dc7bd0c8aafac3b95b52efe8b156deb1ac229524   \n",
       "1  transit-gtfs-stops  8c6767e3195d529b6d3af49f57a34b5b8580fe0e   \n",
       "2  transit-gtfs-stops  15f9b959ea1f08f5318db7905927f9f740ecf9ab   \n",
       "3  transit-gtfs-stops  5a71a7a20bc0985fe50a0837d38f553177f4545c   \n",
       "4  transit-gtfs-stops  ec44e9770a1335c6fe80d0ef604dfca4ad792709   \n",
       "\n",
       "                   record_timestamp fields.stop_id  \\\n",
       "0  2022-01-19T09:00:48.798000+00:00          00799   \n",
       "1  2022-01-19T09:00:48.798000+00:00          00850   \n",
       "2  2022-01-19T09:00:48.798000+00:00          09075   \n",
       "3  2022-01-19T09:00:48.798000+00:00          00858   \n",
       "4  2022-01-19T09:00:48.798000+00:00          00407   \n",
       "\n",
       "                                   fields.stop_name fields.stop_coordinates  \\\n",
       "0               Norwest Road (east side of Midland)   [44.25722, -76.57395]   \n",
       "1  Centennial Drive (south side of Cataraqui Woods)   [44.26926, -76.55933]   \n",
       "2         Crossfield Avenue (west side of Andersen)   [44.26475, -76.54892]   \n",
       "3         Chadwick Parkette (west side of Andersen)   [44.26208, -76.54846]   \n",
       "4            Vanguard Court (east side of Waterloo)   [44.25257, -76.54781]   \n",
       "\n",
       "  fields.wheelchair_boarding geometry.type   geometry.coordinates  \\\n",
       "0                          0         Point  [-76.57395, 44.25722]   \n",
       "1                          0         Point  [-76.55933, 44.26926]   \n",
       "2                          0         Point  [-76.54892, 44.26475]   \n",
       "3                          0         Point  [-76.54846, 44.26208]   \n",
       "4                          0         Point  [-76.54781, 44.25257]   \n",
       "\n",
       "                        bus_routes  \n",
       "0  [6, 15, 7, 14, 501, 4, 10, COV]  \n",
       "1                             [14]  \n",
       "2                             [14]  \n",
       "3                             [14]  \n",
       "4                             [14]  "
      ]
     },
     "execution_count": 63,
     "metadata": {},
     "output_type": "execute_result"
    }
   ],
   "source": [
    "# Initialize a feature in ridership dataframe called stop_name\n",
    "#ridership['stop_name'] = pd.Series()\n",
    "\n",
    "if str(ridership['Bus'][0]) in transit_stops['bus_routes'][0]:\n",
    "    print(True)\n",
    "    \n",
    "transit_stops.head()"
   ]
  },
  {
   "cell_type": "markdown",
   "id": "experienced-permission",
   "metadata": {},
   "source": [
    "The following cell takes a long time to run. The loops iterate over the 700k rider boarding GPS coordinates with the 800 GPS coordinates in map stops dataframe. The following was done locally and saved to a copyWe can then evaluate which stops have the highest boarding rates. Bus route 17 is not in the busroute data from city of Kingston."
   ]
  },
  {
   "cell_type": "code",
   "execution_count": 101,
   "id": "studied-brooks",
   "metadata": {},
   "outputs": [
    {
     "name": "stderr",
     "output_type": "stream",
     "text": [
      "c:\\users\\ryan\\appdata\\local\\programs\\python\\python37\\lib\\site-packages\\ipykernel_launcher.py:18: SettingWithCopyWarning: \n",
      "A value is trying to be set on a copy of a slice from a DataFrame\n",
      "\n",
      "See the caveats in the documentation: https://pandas.pydata.org/pandas-docs/stable/user_guide/indexing.html#returning-a-view-versus-a-copy\n"
     ]
    }
   ],
   "source": [
    "# The calculation needs to be complete for all bus stops. \n",
    "# Stops need to be recorded in the dataframe.\n",
    "for ind in list(ridership.index):\n",
    "    \n",
    "    boarding_gps = [ridership['Latitude'][ind],ridership['Longitude'][ind]]\n",
    "    \n",
    "    # Continue call in cases where the gps coords is [0,0]\n",
    "    if boarding_gps[0]==0:\n",
    "        continue\n",
    "        \n",
    "    k = 0\n",
    "    for s in transit_stops['fields.stop_coordinates']:\n",
    "        if str(ridership['Route'][ind]) in transit_stops['bus_routes'][k]:\n",
    "            stop_test = np.array(s)\n",
    "            test_param = haversine(boarding_gps,stop_test)\n",
    "            if test_param<20:\n",
    "                # Append bus route to list.\n",
    "                # Loop breaks if boarding coords identified as being within 20m of bus stop.\n",
    "                ridership['stop_name'][ind] = transit_stops['fields.stop_id'][k]\n",
    "                break\n",
    "        k = k+1\n"
   ]
  },
  {
   "cell_type": "code",
   "execution_count": 102,
   "id": "friendly-meaning",
   "metadata": {},
   "outputs": [],
   "source": [
    "ridership.to_excel('transit_update.xlsx')"
   ]
  },
  {
   "cell_type": "code",
   "execution_count": 108,
   "id": "complex-ethernet",
   "metadata": {},
   "outputs": [
    {
     "data": {
      "text/plain": [
       "S02037    22133\n",
       "S02079    18092\n",
       "S00501    14292\n",
       "S00292    14076\n",
       "S02036    10362\n",
       "          ...  \n",
       "09085         1\n",
       "00598         1\n",
       "00100         1\n",
       "00834         1\n",
       "00754         1\n",
       "Name: stop_name, Length: 644, dtype: int64"
      ]
     },
     "execution_count": 108,
     "metadata": {},
     "output_type": "execute_result"
    }
   ],
   "source": [
    "ridership['stop_name'].value_counts()"
   ]
  },
  {
   "cell_type": "code",
   "execution_count": 142,
   "id": "surprised-composer",
   "metadata": {},
   "outputs": [
    {
     "data": {
      "text/plain": [
       "0.16822205726013748"
      ]
     },
     "execution_count": 142,
     "metadata": {},
     "output_type": "execute_result"
    }
   ],
   "source": [
    "\n",
    "time = pd.Series(ridership['Time'].dt.hour)\n",
    "day = pd.Series(ridership['Date'].dt.day)\n",
    "weekday = pd.Series(ridership['Date'].dt.dayofweek)\n",
    "len(weekday[weekday>=5])/len(weekday)"
   ]
  },
  {
   "cell_type": "code",
   "execution_count": 169,
   "id": "overhead-practitioner",
   "metadata": {},
   "outputs": [],
   "source": [
    "day_df = day.to_frame(name = 'day')\n",
    "weekday_df = weekday.to_frame(name = 'weekday')\n",
    "time_df = time.to_frame(name = 'time')\n",
    "#summary_ridership = pd.Series([])\n",
    "df = pd.concat([day_df,weekday_df,time_df],axis = 1)"
   ]
  },
  {
   "cell_type": "code",
   "execution_count": 173,
   "id": "visible-increase",
   "metadata": {},
   "outputs": [
    {
     "data": {
      "text/html": [
       "<div>\n",
       "<style scoped>\n",
       "    .dataframe tbody tr th:only-of-type {\n",
       "        vertical-align: middle;\n",
       "    }\n",
       "\n",
       "    .dataframe tbody tr th {\n",
       "        vertical-align: top;\n",
       "    }\n",
       "\n",
       "    .dataframe thead th {\n",
       "        text-align: right;\n",
       "    }\n",
       "</style>\n",
       "<table border=\"1\" class=\"dataframe\">\n",
       "  <thead>\n",
       "    <tr style=\"text-align: right;\">\n",
       "      <th>time</th>\n",
       "      <th>0</th>\n",
       "      <th>1</th>\n",
       "      <th>2</th>\n",
       "      <th>3</th>\n",
       "      <th>5</th>\n",
       "      <th>6</th>\n",
       "      <th>7</th>\n",
       "      <th>8</th>\n",
       "      <th>9</th>\n",
       "      <th>10</th>\n",
       "      <th>...</th>\n",
       "      <th>14</th>\n",
       "      <th>15</th>\n",
       "      <th>16</th>\n",
       "      <th>17</th>\n",
       "      <th>18</th>\n",
       "      <th>19</th>\n",
       "      <th>20</th>\n",
       "      <th>21</th>\n",
       "      <th>22</th>\n",
       "      <th>23</th>\n",
       "    </tr>\n",
       "    <tr>\n",
       "      <th>weekday</th>\n",
       "      <th></th>\n",
       "      <th></th>\n",
       "      <th></th>\n",
       "      <th></th>\n",
       "      <th></th>\n",
       "      <th></th>\n",
       "      <th></th>\n",
       "      <th></th>\n",
       "      <th></th>\n",
       "      <th></th>\n",
       "      <th></th>\n",
       "      <th></th>\n",
       "      <th></th>\n",
       "      <th></th>\n",
       "      <th></th>\n",
       "      <th></th>\n",
       "      <th></th>\n",
       "      <th></th>\n",
       "      <th></th>\n",
       "      <th></th>\n",
       "      <th></th>\n",
       "    </tr>\n",
       "  </thead>\n",
       "  <tbody>\n",
       "    <tr>\n",
       "      <th>0</th>\n",
       "      <td>76</td>\n",
       "      <td>35</td>\n",
       "      <td>9</td>\n",
       "      <td>7</td>\n",
       "      <td>68</td>\n",
       "      <td>2363</td>\n",
       "      <td>7958</td>\n",
       "      <td>8881</td>\n",
       "      <td>6592</td>\n",
       "      <td>5998</td>\n",
       "      <td>...</td>\n",
       "      <td>10181</td>\n",
       "      <td>10651</td>\n",
       "      <td>10851</td>\n",
       "      <td>9971</td>\n",
       "      <td>6811</td>\n",
       "      <td>4657</td>\n",
       "      <td>3540</td>\n",
       "      <td>3067</td>\n",
       "      <td>1575</td>\n",
       "      <td>769</td>\n",
       "    </tr>\n",
       "    <tr>\n",
       "      <th>1</th>\n",
       "      <td>135</td>\n",
       "      <td>47</td>\n",
       "      <td>6</td>\n",
       "      <td>19</td>\n",
       "      <td>103</td>\n",
       "      <td>3042</td>\n",
       "      <td>10280</td>\n",
       "      <td>10743</td>\n",
       "      <td>8489</td>\n",
       "      <td>7338</td>\n",
       "      <td>...</td>\n",
       "      <td>12606</td>\n",
       "      <td>12707</td>\n",
       "      <td>12500</td>\n",
       "      <td>11537</td>\n",
       "      <td>8334</td>\n",
       "      <td>5163</td>\n",
       "      <td>4567</td>\n",
       "      <td>3485</td>\n",
       "      <td>1981</td>\n",
       "      <td>737</td>\n",
       "    </tr>\n",
       "    <tr>\n",
       "      <th>2</th>\n",
       "      <td>2</td>\n",
       "      <td>2</td>\n",
       "      <td>0</td>\n",
       "      <td>8</td>\n",
       "      <td>90</td>\n",
       "      <td>2507</td>\n",
       "      <td>8454</td>\n",
       "      <td>9126</td>\n",
       "      <td>6855</td>\n",
       "      <td>6654</td>\n",
       "      <td>...</td>\n",
       "      <td>9312</td>\n",
       "      <td>10022</td>\n",
       "      <td>9763</td>\n",
       "      <td>8817</td>\n",
       "      <td>6410</td>\n",
       "      <td>3898</td>\n",
       "      <td>3425</td>\n",
       "      <td>2872</td>\n",
       "      <td>1412</td>\n",
       "      <td>581</td>\n",
       "    </tr>\n",
       "    <tr>\n",
       "      <th>3</th>\n",
       "      <td>3</td>\n",
       "      <td>8</td>\n",
       "      <td>0</td>\n",
       "      <td>24</td>\n",
       "      <td>81</td>\n",
       "      <td>2490</td>\n",
       "      <td>8429</td>\n",
       "      <td>9237</td>\n",
       "      <td>6864</td>\n",
       "      <td>6134</td>\n",
       "      <td>...</td>\n",
       "      <td>9862</td>\n",
       "      <td>10160</td>\n",
       "      <td>10770</td>\n",
       "      <td>9662</td>\n",
       "      <td>6987</td>\n",
       "      <td>3964</td>\n",
       "      <td>3435</td>\n",
       "      <td>3074</td>\n",
       "      <td>1985</td>\n",
       "      <td>652</td>\n",
       "    </tr>\n",
       "    <tr>\n",
       "      <th>4</th>\n",
       "      <td>3</td>\n",
       "      <td>108</td>\n",
       "      <td>0</td>\n",
       "      <td>10</td>\n",
       "      <td>85</td>\n",
       "      <td>2236</td>\n",
       "      <td>7272</td>\n",
       "      <td>7782</td>\n",
       "      <td>6310</td>\n",
       "      <td>6054</td>\n",
       "      <td>...</td>\n",
       "      <td>9608</td>\n",
       "      <td>10079</td>\n",
       "      <td>10640</td>\n",
       "      <td>8748</td>\n",
       "      <td>6429</td>\n",
       "      <td>4441</td>\n",
       "      <td>3714</td>\n",
       "      <td>3426</td>\n",
       "      <td>2378</td>\n",
       "      <td>881</td>\n",
       "    </tr>\n",
       "    <tr>\n",
       "      <th>5</th>\n",
       "      <td>2</td>\n",
       "      <td>1</td>\n",
       "      <td>0</td>\n",
       "      <td>13</td>\n",
       "      <td>28</td>\n",
       "      <td>811</td>\n",
       "      <td>1369</td>\n",
       "      <td>2332</td>\n",
       "      <td>3000</td>\n",
       "      <td>3815</td>\n",
       "      <td>...</td>\n",
       "      <td>5792</td>\n",
       "      <td>6256</td>\n",
       "      <td>6134</td>\n",
       "      <td>5134</td>\n",
       "      <td>4582</td>\n",
       "      <td>3264</td>\n",
       "      <td>2744</td>\n",
       "      <td>2272</td>\n",
       "      <td>2219</td>\n",
       "      <td>892</td>\n",
       "    </tr>\n",
       "    <tr>\n",
       "      <th>6</th>\n",
       "      <td>261</td>\n",
       "      <td>231</td>\n",
       "      <td>32</td>\n",
       "      <td>2</td>\n",
       "      <td>14</td>\n",
       "      <td>354</td>\n",
       "      <td>585</td>\n",
       "      <td>1772</td>\n",
       "      <td>2391</td>\n",
       "      <td>3152</td>\n",
       "      <td>...</td>\n",
       "      <td>4999</td>\n",
       "      <td>5073</td>\n",
       "      <td>5024</td>\n",
       "      <td>4499</td>\n",
       "      <td>4021</td>\n",
       "      <td>2916</td>\n",
       "      <td>2134</td>\n",
       "      <td>2024</td>\n",
       "      <td>979</td>\n",
       "      <td>572</td>\n",
       "    </tr>\n",
       "  </tbody>\n",
       "</table>\n",
       "<p>7 rows × 23 columns</p>\n",
       "</div>"
      ],
      "text/plain": [
       "time      0    1   2   3    5     6      7      8     9     10  ...     14  \\\n",
       "weekday                                                         ...          \n",
       "0         76   35   9   7   68  2363   7958   8881  6592  5998  ...  10181   \n",
       "1        135   47   6  19  103  3042  10280  10743  8489  7338  ...  12606   \n",
       "2          2    2   0   8   90  2507   8454   9126  6855  6654  ...   9312   \n",
       "3          3    8   0  24   81  2490   8429   9237  6864  6134  ...   9862   \n",
       "4          3  108   0  10   85  2236   7272   7782  6310  6054  ...   9608   \n",
       "5          2    1   0  13   28   811   1369   2332  3000  3815  ...   5792   \n",
       "6        261  231  32   2   14   354    585   1772  2391  3152  ...   4999   \n",
       "\n",
       "time        15     16     17    18    19    20    21    22   23  \n",
       "weekday                                                          \n",
       "0        10651  10851   9971  6811  4657  3540  3067  1575  769  \n",
       "1        12707  12500  11537  8334  5163  4567  3485  1981  737  \n",
       "2        10022   9763   8817  6410  3898  3425  2872  1412  581  \n",
       "3        10160  10770   9662  6987  3964  3435  3074  1985  652  \n",
       "4        10079  10640   8748  6429  4441  3714  3426  2378  881  \n",
       "5         6256   6134   5134  4582  3264  2744  2272  2219  892  \n",
       "6         5073   5024   4499  4021  2916  2134  2024   979  572  \n",
       "\n",
       "[7 rows x 23 columns]"
      ]
     },
     "execution_count": 173,
     "metadata": {},
     "output_type": "execute_result"
    }
   ],
   "source": [
    "\n",
    "pd.crosstab(index = df['weekday'],columns = df['time'])\n"
   ]
  },
  {
   "cell_type": "code",
   "execution_count": 124,
   "id": "arranged-spring",
   "metadata": {},
   "outputs": [
    {
     "data": {
      "text/plain": [
       "0   2019-08-05 10:23:05\n",
       "1   2019-08-05 11:23:05\n",
       "2   2019-08-05 12:23:05\n",
       "3   2019-08-05 13:23:05\n",
       "4   2019-08-05 14:23:05\n",
       "5   2019-08-05 15:23:05\n",
       "dtype: datetime64[ns]"
      ]
     },
     "execution_count": 124,
     "metadata": {},
     "output_type": "execute_result"
    }
   ],
   "source": [
    "# take input Dates in a range\n",
    "dates = pd.Series(pd.date_range('2019-8-5 10:23:05', periods = 6, freq ='H'))\n",
    "  \n",
    "# convert in a dict container\n",
    "frame = pd.DataFrame(dict(givenDate = dates))\n",
    "dates"
   ]
  }
 ],
 "metadata": {
  "deepnote": {},
  "deepnote_execution_queue": [],
  "deepnote_notebook_id": "ad015c68-1e2c-4230-823c-e1fa7ac58977",
  "kernelspec": {
   "display_name": "Python 3",
   "language": "python",
   "name": "python3"
  },
  "language_info": {
   "codemirror_mode": {
    "name": "ipython",
    "version": 3
   },
   "file_extension": ".py",
   "mimetype": "text/x-python",
   "name": "python",
   "nbconvert_exporter": "python",
   "pygments_lexer": "ipython3",
   "version": "3.7.0"
  }
 },
 "nbformat": 4,
 "nbformat_minor": 5
}
